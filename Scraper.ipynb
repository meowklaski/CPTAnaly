{
 "cells": [
  {
   "cell_type": "code",
   "execution_count": 1,
   "metadata": {
    "collapsed": true
   },
   "outputs": [],
   "source": [
    "import notebook\n",
    "E = notebook.nbextensions.EnableNBExtensionApp()\n",
    "E.enable_nbextension('usability/codefolding/main')"
   ]
  },
  {
   "cell_type": "code",
   "execution_count": 91,
   "metadata": {
    "collapsed": true
   },
   "outputs": [],
   "source": [
    "from IPython.display import clear_output"
   ]
  },
  {
   "cell_type": "code",
   "execution_count": 15,
   "metadata": {
    "collapsed": true
   },
   "outputs": [],
   "source": [
    "import urllib2\n",
    "from bs4 import BeautifulSoup\n",
    "home = 'https://capcomprotour.com/'"
   ]
  },
  {
   "cell_type": "code",
   "execution_count": 16,
   "metadata": {
    "collapsed": true
   },
   "outputs": [],
   "source": [
    "%load_ext autoreload\n",
    "%autoreload 2\n",
    "\n",
    "%aimport scraper\n",
    "%aimport scruber\n",
    "%aimport tourney_class"
   ]
  },
  {
   "cell_type": "code",
   "execution_count": 17,
   "metadata": {
    "collapsed": true
   },
   "outputs": [],
   "source": [
    "import numpy as np\n",
    "from scraper import scrape_url_standings, scrape_results_urls\n",
    "from scruber import scrub_tourney_dates, scrub_player_data\n",
    "from tourney_class import Tourney"
   ]
  },
  {
   "cell_type": "code",
   "execution_count": 56,
   "metadata": {
    "collapsed": false
   },
   "outputs": [],
   "source": [
    "stand_url_list = ['https://capcomprotour.com/full-standings/?season=2015&lang=',\n",
    "             'https://capcomprotour.com/full-standings/page/2/?season=2015&lang=en-us',\n",
    "            'https://capcomprotour.com/full-standings/page/3/?season=2015&lang=en-us',\n",
    "            'https://capcomprotour.com/full-standings/page/4/?season=2015&lang=en-us',\n",
    "            'https://capcomprotour.com/full-standings/page/5/?season=2015&lang=en-us',\n",
    "            'https://capcomprotour.com/full-standings/page/6/?season=2015&lang=en-us']\n"
   ]
  },
  {
   "cell_type": "code",
   "execution_count": 102,
   "metadata": {
    "collapsed": true
   },
   "outputs": [],
   "source": [
    "stand_url = 'https://capcomprotour.com/full-standings/?season=2015&lang='\n",
    "response = urllib2.urlopen(stand_url)\n",
    "soup = BeautifulSoup(response.read(), 'html.parser')"
   ]
  },
  {
   "cell_type": "code",
   "execution_count": 113,
   "metadata": {
    "collapsed": false
   },
   "outputs": [
    {
     "data": {
      "text/plain": [
       "u'50'"
      ]
     },
     "execution_count": 113,
     "metadata": {},
     "output_type": "execute_result"
    }
   ],
   "source": [
    "soup.findAll('tr')[1:][49].findAll('td')[0].text"
   ]
  },
  {
   "cell_type": "code",
   "execution_count": 114,
   "metadata": {
    "collapsed": true
   },
   "outputs": [],
   "source": [
    "player_rank_link_save = copy.copy(player_rank_link)"
   ]
  },
  {
   "cell_type": "code",
   "execution_count": 115,
   "metadata": {
    "collapsed": true
   },
   "outputs": [],
   "source": [
    "player_rank_link = []"
   ]
  },
  {
   "cell_type": "code",
   "execution_count": 116,
   "metadata": {
    "collapsed": false
   },
   "outputs": [],
   "source": [
    "for stand_url in stand_url_list:\n",
    "    response = urllib2.urlopen(stand_url)\n",
    "    soup = BeautifulSoup(response.read(), 'html.parser')\n",
    "    for bit in soup.findAll('tr')[1:]:\n",
    "        bit_td = bit.findAll('td')\n",
    "        rank = int(bit_td[0].text)\n",
    "        pts = int(bit_td[-1].text)\n",
    "        name = str(bit.a.text)\n",
    "        spl = name.split('|')\n",
    "        if len(spl) == 2:\n",
    "            tag, name = spl\n",
    "        else:\n",
    "            tag, name = None, spl[0]\n",
    "\n",
    "        url = str(bit.a.get('href'))\n",
    "        player_rank_link.append([tag, name, rank, pts, url])"
   ]
  },
  {
   "cell_type": "code",
   "execution_count": 117,
   "metadata": {
    "collapsed": false
   },
   "outputs": [
    {
     "data": {
      "text/plain": [
       "261"
      ]
     },
     "execution_count": 117,
     "metadata": {},
     "output_type": "execute_result"
    }
   ],
   "source": [
    "len(player_rank_link)"
   ]
  },
  {
   "cell_type": "code",
   "execution_count": 120,
   "metadata": {
    "collapsed": true
   },
   "outputs": [],
   "source": [
    "player_to_pt = {}\n",
    "player_to_rank = {}"
   ]
  },
  {
   "cell_type": "code",
   "execution_count": 121,
   "metadata": {
    "collapsed": true
   },
   "outputs": [],
   "source": [
    "for plr in player_rank_link:\n",
    "    player_to_pt[plr[1]] = plr[3]\n",
    "    player_to_rank[plr[1]] = plr[2]"
   ]
  },
  {
   "cell_type": "code",
   "execution_count": 123,
   "metadata": {
    "collapsed": false
   },
   "outputs": [
    {
     "data": {
      "text/plain": [
       "{'-6': 83,\n",
       " '801 Jayce the Ace': 89,\n",
       " '801 Strider': 22,\n",
       " 'AHo': 154,\n",
       " 'AbAb': 153,\n",
       " 'Abang': 211,\n",
       " 'Afii': 90,\n",
       " 'Ahbao': 240,\n",
       " 'AiAi': 43,\n",
       " 'Air': 73,\n",
       " 'Akimo': 115,\n",
       " 'Akira': 155,\n",
       " 'Alex Valle': 177,\n",
       " 'Alexandro': 137,\n",
       " 'Alucard': 82,\n",
       " 'Andreas': 62,\n",
       " 'Andy': 159,\n",
       " 'Anton': 156,\n",
       " 'Ars': 197,\n",
       " 'BS Ioros': 253,\n",
       " 'Baby Brasil': 123,\n",
       " 'Badi Lootion': 201,\n",
       " 'Baoice': 260,\n",
       " 'Bashfest': 125,\n",
       " 'Battousai': 246,\n",
       " 'Bebedero': 111,\n",
       " 'Berzack': 157,\n",
       " 'BliRedd': 185,\n",
       " 'BobbyBlunts': 168,\n",
       " 'Bonchan': 3,\n",
       " 'Brenttiscool': 87,\n",
       " 'Brian': 203,\n",
       " 'Brillz': 202,\n",
       " 'CK-VNZ': 205,\n",
       " 'Caju': 109,\n",
       " 'Cameraman': 158,\n",
       " 'CamizaKOF': 145,\n",
       " 'Chaotix': 259,\n",
       " 'Chengfei': 160,\n",
       " 'Chiaki': 161,\n",
       " 'Chris': 180,\n",
       " 'ChuChu': 61,\n",
       " 'Chuan': 50,\n",
       " 'Cocaneta': 162,\n",
       " 'CodyNp': 116,\n",
       " 'CrazySalvi': 169,\n",
       " 'Cuongster': 234,\n",
       " 'DB.KOOPA': 163,\n",
       " 'DR Ray': 127,\n",
       " 'Daigo Umehara': 10,\n",
       " 'Dakou': 31,\n",
       " 'Damascus': 171,\n",
       " 'Damdai': 208,\n",
       " 'Dark Jiewa': 24,\n",
       " 'Dark817': 189,\n",
       " 'Darkchild': 164,\n",
       " 'Dashio': 20,\n",
       " 'Demulant': 121,\n",
       " 'Dianminion': 126,\n",
       " 'Dickson': 209,\n",
       " 'Dieminion': 23,\n",
       " 'Doomed': 136,\n",
       " 'Doomsday 507': 74,\n",
       " 'Drapoyo': 213,\n",
       " 'Dru': 173,\n",
       " 'Dudebag': 144,\n",
       " 'Dunhill': 102,\n",
       " 'Duppsko': 186,\n",
       " 'EX Pugera': 58,\n",
       " 'Ebi': 152,\n",
       " 'EightGrade': 130,\n",
       " 'Eita': 69,\n",
       " 'El Chakotay': 151,\n",
       " 'Emersion': 215,\n",
       " 'Eunbeen': 217,\n",
       " 'EvilYoshi': 167,\n",
       " 'F-Word': 97,\n",
       " 'FABINHO': 190,\n",
       " 'FRS': 218,\n",
       " 'Famous': 239,\n",
       " 'Fawwaz': 141,\n",
       " 'Filipinoman': 51,\n",
       " 'Flawless Deku': 129,\n",
       " 'Flocker': 195,\n",
       " 'FourWude': 165,\n",
       " 'Fuudo': 8,\n",
       " 'Fuzzy': 232,\n",
       " 'GZ-Ben': 219,\n",
       " 'Gabo': 134,\n",
       " 'Gachikun (Gattikun)': 92,\n",
       " 'Gackt': 28,\n",
       " 'Gagapa': 84,\n",
       " 'GamerBee': 5,\n",
       " 'Gannoon': 80,\n",
       " 'Garret': 226,\n",
       " 'German Luger': 250,\n",
       " 'Ghost': 244,\n",
       " 'God of Sky': 85,\n",
       " 'Goj1980': 206,\n",
       " 'Gonzales': 35,\n",
       " 'Gorcrx': 170,\n",
       " 'Guiller BR': 108,\n",
       " 'Gunslinga': 148,\n",
       " 'Haitani': 33,\n",
       " 'Haizek': 220,\n",
       " 'Halibel': 224,\n",
       " 'Hamad': 210,\n",
       " 'Hikarin': 221,\n",
       " 'Hiro': 101,\n",
       " 'Hoodaman': 238,\n",
       " 'Hsien Chang': 118,\n",
       " 'HumanBomb': 25,\n",
       " 'Hunter': 172,\n",
       " 'Huracan Azura': 135,\n",
       " 'Hurricane237': 98,\n",
       " 'HurtchVR': 212,\n",
       " 'Ibukiman': 48,\n",
       " 'Ikatsui Yarou': 222,\n",
       " 'ImStillDaDaddy': 71,\n",
       " 'Inco': 54,\n",
       " 'Infexious': 46,\n",
       " 'Infiltration': 2,\n",
       " 'Integra': 150,\n",
       " 'Isam': 257,\n",
       " 'Itabashi Zangief (Itazan)': 17,\n",
       " 'Jacare': 191,\n",
       " 'James': 227,\n",
       " 'Javits': 228,\n",
       " 'Jebailey': 204,\n",
       " 'JehoSan': 75,\n",
       " 'Joel': 86,\n",
       " 'Julio': 119,\n",
       " 'Justin Wong': 15,\n",
       " 'K-Brad': 37,\n",
       " 'KDZ': 166,\n",
       " 'KOK': 70,\n",
       " 'Kakaroto': 110,\n",
       " 'Kawaguchi': 88,\n",
       " 'Kazunoko': 11,\n",
       " 'Kenji': 200,\n",
       " 'Kenmike77': 229,\n",
       " 'Keno (2015)': 174,\n",
       " 'Keoma': 21,\n",
       " 'Khangaroo': 124,\n",
       " 'KichijoujiKen': 146,\n",
       " 'Kike': 249,\n",
       " 'Kim1234': 117,\n",
       " 'Kindevu': 94,\n",
       " 'Kindo': 131,\n",
       " 'King Funk': 223,\n",
       " 'KitasenjuDJ': 60,\n",
       " 'Koji': 103,\n",
       " 'KojiKOG': 40,\n",
       " 'Kreymore': 175,\n",
       " 'LAUGH': 231,\n",
       " 'LPN': 59,\n",
       " 'Latif': 41,\n",
       " 'Leffen': 254,\n",
       " 'Leslie': 105,\n",
       " 'Luffy': 6,\n",
       " 'MBR': 64,\n",
       " 'MDR': 178,\n",
       " 'MOV': 44,\n",
       " 'Magneto1080p': 132,\n",
       " 'Mago': 9,\n",
       " 'Marq Teddy': 181,\n",
       " 'Meishan Quanwang': 233,\n",
       " 'Meu': 235,\n",
       " 'Milligano': 143,\n",
       " 'Misse': 30,\n",
       " 'Mizoteru': 133,\n",
       " 'Momochi': 1,\n",
       " 'NYChrisG': 63,\n",
       " 'Nando Tovar': 120,\n",
       " 'Nano': 198,\n",
       " 'Native Impact': 91,\n",
       " 'Nekopunch': 236,\n",
       " 'Nemo': 13,\n",
       " 'Nice1': 230,\n",
       " 'Ninja Shakz': 128,\n",
       " 'Nishikin': 52,\n",
       " 'Nox2': 113,\n",
       " 'NuckleDu': 19,\n",
       " 'Onikiri Kai': 182,\n",
       " 'Onisan': 149,\n",
       " 'OverMostHeads': 188,\n",
       " 'PR Balrog': 32,\n",
       " 'Packz': 67,\n",
       " 'Pedram': 183,\n",
       " 'Pepeday': 96,\n",
       " 'Phenom': 38,\n",
       " 'Pnoy': 95,\n",
       " 'Poongko': 16,\n",
       " 'Pr3da': 72,\n",
       " 'Pro Fluke': 53,\n",
       " 'Problem X': 27,\n",
       " 'QQEL': 100,\n",
       " 'QuiQuiKOF': 184,\n",
       " 'R': 81,\n",
       " 'RB': 42,\n",
       " 'RLBS': 237,\n",
       " 'RMZ': 122,\n",
       " 'Ranmasama': 241,\n",
       " 'Reiketsu': 55,\n",
       " 'Renegad': 207,\n",
       " 'Revenger32': 107,\n",
       " 'Riceata': 106,\n",
       " 'Ricki Ortiz': 36,\n",
       " 'Rokkun': 47,\n",
       " 'Rosso': 187,\n",
       " 'Ryan Hart (Prodigal Son)': 34,\n",
       " 'SASA': 243,\n",
       " 'SAUNIC': 93,\n",
       " 'Sabin': 56,\n",
       " 'Sako': 45,\n",
       " 'SaltyKid': 242,\n",
       " 'Sanford Kelly': 251,\n",
       " 'Santarouman': 66,\n",
       " 'Shamwow': 192,\n",
       " 'Shaun': 245,\n",
       " 'Sheva': 225,\n",
       " 'Shimauta': 138,\n",
       " 'Shin Phoenix': 261,\n",
       " 'Shinba': 78,\n",
       " 'Shine': 76,\n",
       " 'Shiro (Shirou)': 26,\n",
       " 'Shoryusengan': 112,\n",
       " 'Sketch': 193,\n",
       " 'Smug': 49,\n",
       " 'Snake Eyez': 12,\n",
       " 'Solidjin': 140,\n",
       " 'Stanick': 139,\n",
       " 'StarNab': 194,\n",
       " 'Stekoh': 247,\n",
       " 'StormKUBO': 39,\n",
       " 'Susubabi': 196,\n",
       " 'Taayan': 248,\n",
       " 'Tampa Bison': 57,\n",
       " 'ThunderBear': 142,\n",
       " 'Tian Sia Ren (???)': 252,\n",
       " 'Tokido': 7,\n",
       " 'Tonpy': 18,\n",
       " 'Tuan Mario': 255,\n",
       " 'Twiggy': 199,\n",
       " 'Tyrant': 65,\n",
       " 'UltraBram': 256,\n",
       " 'Ush': 258,\n",
       " 'Valmaster': 29,\n",
       " 'Veggey': 99,\n",
       " 'Veloc1raptor': 214,\n",
       " 'Will2Pac': 179,\n",
       " 'Wolfkrone': 79,\n",
       " 'XR PROMETO': 77,\n",
       " 'Xian': 4,\n",
       " 'Xiao Hai': 14,\n",
       " 'XiaoLong': 68,\n",
       " 'Xiaohu': 114,\n",
       " 'Xitao': 176,\n",
       " 'Yossan': 147,\n",
       " 'Zaferino': 104,\n",
       " 'emptysys': 216}"
      ]
     },
     "execution_count": 123,
     "metadata": {},
     "output_type": "execute_result"
    }
   ],
   "source": [
    "player_to_rank"
   ]
  },
  {
   "cell_type": "code",
   "execution_count": 127,
   "metadata": {
    "collapsed": true
   },
   "outputs": [],
   "source": [
    "with open('data/player_to_pt.p', 'wb') as f_:\n",
    "    cPickle.dump(player_to_pt, f_) "
   ]
  },
  {
   "cell_type": "code",
   "execution_count": 124,
   "metadata": {
    "collapsed": true
   },
   "outputs": [],
   "source": [
    "player_to_country = name_to_country"
   ]
  },
  {
   "cell_type": "code",
   "execution_count": 84,
   "metadata": {
    "collapsed": true
   },
   "outputs": [],
   "source": [
    "name_to_country = {}"
   ]
  },
  {
   "cell_type": "code",
   "execution_count": 66,
   "metadata": {
    "collapsed": true
   },
   "outputs": [],
   "source": [
    "player_url = 'https://capcomprotour.com/player/?player=7309&lang=en-us'"
   ]
  },
  {
   "cell_type": "code",
   "execution_count": 99,
   "metadata": {
    "collapsed": false
   },
   "outputs": [],
   "source": [
    "for i,dat in enumerate(player_rank_link):\n",
    "    print i\n",
    "    name = dat[0][1]\n",
    "    url = dat[-1]\n",
    "    response = urllib2.urlopen(url)\n",
    "    soup = BeautifulSoup(response.read(), 'html.parser')\n",
    "    name_to_country[name] = str(soup.findAll('p')[1].text)\n",
    "    if not i%10: \n",
    "        clear_output()"
   ]
  },
  {
   "cell_type": "code",
   "execution_count": 100,
   "metadata": {
    "collapsed": false
   },
   "outputs": [
    {
     "data": {
      "text/plain": [
       "{'-6': 'Japan',\n",
       " '801 Jayce the Ace': 'USA',\n",
       " '801 Strider': 'USA',\n",
       " 'AHo': 'Indonesia',\n",
       " 'AbAb': 'China',\n",
       " 'Abang': 'China',\n",
       " 'Afii': 'UK',\n",
       " 'Ahbao': 'China',\n",
       " 'AiAi': 'Japan',\n",
       " 'Air': 'Canada',\n",
       " 'Akimo': 'Japan',\n",
       " 'Akira': 'Japan',\n",
       " 'Alex Valle': 'USA',\n",
       " 'Alexandro': 'Brazil',\n",
       " 'Alucard': 'USA',\n",
       " 'Andreas': 'UK',\n",
       " 'Andy': '',\n",
       " 'Anton': 'Japan',\n",
       " 'Ars': 'Costa Rica',\n",
       " 'BS Ioros': 'Costa Rica',\n",
       " 'Baby Brasil': 'Brazil',\n",
       " 'Badi Lootion': 'Norway',\n",
       " 'Baoice': 'Hong Kong',\n",
       " 'Bashfest': 'Sweden',\n",
       " 'Battousai': 'Malaysia',\n",
       " 'Bebedero': 'Costa Rica',\n",
       " 'Berzack': '',\n",
       " 'BliRedd': 'Norway',\n",
       " 'BobbyBlunts': 'USA',\n",
       " 'Bonchan': 'Japan',\n",
       " 'Brenttiscool': 'USA',\n",
       " 'Brian': 'UK',\n",
       " 'Brillz': 'Norway',\n",
       " 'CK-VNZ': 'Vietnam',\n",
       " 'Caju': 'Brazil',\n",
       " 'Cameraman': 'Singapore',\n",
       " 'CamizaKOF': 'Brazil',\n",
       " 'Chaotix': 'USA',\n",
       " 'Chengfei': 'China',\n",
       " 'Chiaki': 'Japan',\n",
       " 'Chris': 'USA',\n",
       " 'ChuChu': 'Brazil',\n",
       " 'Chuan': 'Malaysia',\n",
       " 'Cocaneta': 'Puerto Rico',\n",
       " 'CodyNp': 'Hong Kong',\n",
       " 'CrazySalvi': 'USA',\n",
       " 'Cuongster': '',\n",
       " 'DB.KOOPA': 'Korea',\n",
       " 'DR Ray': 'Dominican Republic',\n",
       " 'Daigo Umehara': 'Japan',\n",
       " 'Dakou': 'China',\n",
       " 'Damascus': 'UK',\n",
       " 'Damdai': 'USA',\n",
       " 'Dark Jiewa': 'China',\n",
       " 'Dark817': 'Brazil',\n",
       " 'Darkchild': 'USA',\n",
       " 'Dashio': 'Japan',\n",
       " 'Demulant': 'Germany',\n",
       " 'Dianminion': 'Indonesia',\n",
       " 'Dickson': 'USA',\n",
       " 'Dieminion': 'USA',\n",
       " 'Doomed': 'Costa Rica',\n",
       " 'Doomsday 507': 'Costa Rica',\n",
       " 'Drapoyo': 'Indonesia',\n",
       " 'Dru': 'Phillipines',\n",
       " 'Dudebag': 'Kuwait',\n",
       " 'Dunhill': 'Japan',\n",
       " 'Duppsko': 'Norway',\n",
       " 'EX Pugera': 'Japan',\n",
       " 'Ebi': 'Japan',\n",
       " 'EightGrade': 'Mexico',\n",
       " 'Eita': 'Japan',\n",
       " 'El Chakotay': 'USA',\n",
       " 'Emersion': 'Netherlands',\n",
       " 'Eunbeen': 'Norway',\n",
       " 'EvilYoshi': 'United Arab Emirates',\n",
       " 'F-Word': 'UK',\n",
       " 'FABINHO': 'Brazil',\n",
       " 'FRS': 'Korea',\n",
       " 'Famous': 'Puerto Rico',\n",
       " 'Fawwaz': '',\n",
       " 'Filipinoman': 'USA',\n",
       " 'Flawless Deku': '',\n",
       " 'Flocker': 'USA',\n",
       " 'FourWude': 'USA',\n",
       " 'Fuudo': 'Japan',\n",
       " 'Fuzzy': '',\n",
       " 'GZ-Ben': 'China',\n",
       " 'Gabo': 'Costa Rica',\n",
       " 'Gachikun (Gattikun)': 'Japan',\n",
       " 'Gackt': 'Singapore',\n",
       " 'Gagapa': 'France',\n",
       " 'GamerBee': 'Taiwan',\n",
       " 'Gannoon': 'Kuwait',\n",
       " 'Garret': 'Phillipines',\n",
       " 'German Luger': 'USA',\n",
       " 'Ghost': 'UK',\n",
       " 'God of Sky': 'China',\n",
       " 'Goj1980': 'Costa Rica',\n",
       " 'Gonzales': 'Japan',\n",
       " 'Gorcrx': 'Puerto Rico',\n",
       " 'Guiller BR': 'Brazil',\n",
       " 'Gunslinga': 'UK',\n",
       " 'Haitani': 'Japan',\n",
       " 'Haizek': 'Puerto Rico',\n",
       " 'Halibel': 'Germany',\n",
       " 'Hamad': 'USA',\n",
       " 'Hikarin': 'Japan',\n",
       " 'Hiro': 'USA',\n",
       " 'Hoodaman': 'USA',\n",
       " 'Hsien Chang': 'USA',\n",
       " 'HumanBomb': 'Hong Kong',\n",
       " 'Hunter': 'Kuwait',\n",
       " 'Huracan Azura': 'Puerto Rico',\n",
       " 'Hurricane237': 'UK',\n",
       " 'HurtchVR': 'China',\n",
       " 'Ibukiman': 'Brazil',\n",
       " 'Ikatsui Yarou': '',\n",
       " 'ImStillDaDaddy': 'UK',\n",
       " 'Inco': 'Japan',\n",
       " 'Infexious': 'UK',\n",
       " 'Infiltration': 'Korea',\n",
       " 'Integra': 'USA',\n",
       " 'Isam': 'UK',\n",
       " 'Itabashi Zangief (Itazan)': 'Japan',\n",
       " 'Jacare': 'Brazil',\n",
       " 'James': '',\n",
       " 'Javits': 'USA',\n",
       " 'Jebailey': 'USA',\n",
       " 'JehoSan': 'France',\n",
       " 'Joel': 'USA',\n",
       " 'Julio': 'USA',\n",
       " 'Justin Wong': 'USA',\n",
       " 'K-Brad': 'USA',\n",
       " 'KDZ': 'USA',\n",
       " 'KOK': 'Japan',\n",
       " 'Kakaroto': 'Costa Rica',\n",
       " 'Kawaguchi': 'Japan',\n",
       " 'Kazunoko': 'Japan',\n",
       " 'Kenji': 'Costa Rica',\n",
       " 'Kenmike77': 'Indonesia',\n",
       " 'Keno (2015)': 'Phillipines',\n",
       " 'Keoma': 'Brazil',\n",
       " 'Khangaroo': 'USA',\n",
       " 'KichijoujiKen': 'Japan',\n",
       " 'Kike': 'Panama',\n",
       " 'Kim1234': 'Japan',\n",
       " 'Kindevu': 'Japan',\n",
       " 'Kindo': 'Japan',\n",
       " 'King Funk': 'Denmark',\n",
       " 'KitasenjuDJ': 'Japan',\n",
       " 'Koji': 'Singapore',\n",
       " 'KojiKOG': 'Japan',\n",
       " 'Kreymore': 'USA',\n",
       " 'LAUGH': 'Korea',\n",
       " 'LPN': 'USA',\n",
       " 'Latif': 'Saudi Arabia',\n",
       " 'Leffen': 'Sweden',\n",
       " 'Leslie': 'Singapore',\n",
       " 'Luffy': 'France',\n",
       " 'MBR': 'Netherlands',\n",
       " 'MDR': 'Japan',\n",
       " 'MOV': 'Japan',\n",
       " 'Magneto1080p': 'USA',\n",
       " 'Mago': 'Japan',\n",
       " 'Marq Teddy': 'USA',\n",
       " 'Meishan Quanwang': '',\n",
       " 'Meu': 'Japan',\n",
       " 'Milligano': 'UK',\n",
       " 'Misse': 'Japan',\n",
       " 'Mizoteru': 'Japan',\n",
       " 'Momochi': 'Japan',\n",
       " 'NYChrisG': 'USA',\n",
       " 'Nando Tovar': 'USA',\n",
       " 'Nano': 'Costa Rica',\n",
       " 'Native Impact': 'USA',\n",
       " 'Nekopunch': 'Indonesia',\n",
       " 'Nemo': 'Japan',\n",
       " 'Nice1': 'USA',\n",
       " 'Ninja Shakz': 'UK',\n",
       " 'Nishikin': 'Japan',\n",
       " 'Nox2': 'Kuwait',\n",
       " 'NuckleDu': 'USA',\n",
       " 'Onikiri Kai': 'Japan',\n",
       " 'Onisan': 'USA',\n",
       " 'OverMostHeads': 'UK',\n",
       " 'PR Balrog': 'USA',\n",
       " 'Packz': 'UK',\n",
       " 'Pedram': 'Norway',\n",
       " 'Pepeday': 'Japan',\n",
       " 'Phenom': 'Norway',\n",
       " 'Pnoy': 'USA',\n",
       " 'Poongko': 'Korea',\n",
       " 'Pr3da': 'Kuwait',\n",
       " 'Pro Fluke': 'UK',\n",
       " 'Problem X': 'UK',\n",
       " 'QQEL': 'China',\n",
       " 'QuiQuiKOF': '',\n",
       " 'R': 'Japan',\n",
       " 'RB': 'Taiwan',\n",
       " 'RLBS': 'USA',\n",
       " 'RMZ': 'UK',\n",
       " 'Ranmasama': 'USA',\n",
       " 'Reiketsu': 'Japan',\n",
       " 'Renegad': 'France',\n",
       " 'Revenger32': 'Indonesia',\n",
       " 'Riceata': 'USA',\n",
       " 'Ricki Ortiz': 'USA',\n",
       " 'Rokkun': 'Japan',\n",
       " 'Rosso': 'Norway',\n",
       " 'Ryan Hart (Prodigal Son)': 'UK',\n",
       " 'SASA': 'Japan',\n",
       " 'SAUNIC': 'France',\n",
       " 'Sabin': 'USA',\n",
       " 'Sako': 'Japan',\n",
       " 'SaltyKid': 'Sweden',\n",
       " 'Sanford Kelly': 'USA',\n",
       " 'Santarouman': 'Japan',\n",
       " 'Shamwow': 'Indonesia',\n",
       " 'Shaun': 'Malaysia',\n",
       " 'Sheva': 'Germany',\n",
       " 'Shimauta': 'Japan',\n",
       " 'Shin Phoenix': 'USA',\n",
       " 'Shinba': 'Japan',\n",
       " 'Shine': 'USA',\n",
       " 'Shiro (Shirou)': 'Japan',\n",
       " 'Shoryusengan': 'UK',\n",
       " 'Sketch': 'USA',\n",
       " 'Smug': 'USA',\n",
       " 'Snake Eyez': 'USA',\n",
       " 'Solidjin': '',\n",
       " 'Stanick': 'Malaysia',\n",
       " 'StarNab': 'France',\n",
       " 'Stekoh': 'Australia',\n",
       " 'StormKUBO': 'Japan',\n",
       " 'Susubabi': 'Indonesia',\n",
       " 'Taayan': 'Japan',\n",
       " 'Tampa Bison': 'USA',\n",
       " 'ThunderBear': 'Norway',\n",
       " 'Tian Sia Ren (???)': '',\n",
       " 'Tokido': 'Japan',\n",
       " 'Tonpy': 'Japan',\n",
       " 'Tuan Mario': 'Vietnam',\n",
       " 'Twiggy': '',\n",
       " 'Tyrant': 'UK',\n",
       " 'UltraBram': 'Indonesia',\n",
       " 'Ush': 'Indonesia',\n",
       " 'Valmaster': 'France',\n",
       " 'Veggey': 'Norway',\n",
       " 'Veloc1raptor': 'USA',\n",
       " 'Will2Pac': 'UK',\n",
       " 'Wolfkrone': 'USA',\n",
       " 'XR PROMETO': 'Brazil',\n",
       " 'Xian': 'Singapore',\n",
       " 'Xiao Hai': 'China',\n",
       " 'XiaoLong': 'China',\n",
       " 'Xiaohu': 'China',\n",
       " 'Xitao': 'Brazil',\n",
       " 'Yossan': 'Japan',\n",
       " 'Zaferino': 'USA',\n",
       " 'emptysys': 'Germany'}"
      ]
     },
     "execution_count": 100,
     "metadata": {},
     "output_type": "execute_result"
    }
   ],
   "source": [
    "name_to_country"
   ]
  },
  {
   "cell_type": "code",
   "execution_count": 77,
   "metadata": {
    "collapsed": false
   },
   "outputs": [
    {
     "ename": "TypeError",
     "evalue": "'NoneType' object is not callable",
     "output_type": "error",
     "traceback": [
      "\u001b[1;31m---------------------------------------------------------------------------\u001b[0m",
      "\u001b[1;31mTypeError\u001b[0m                                 Traceback (most recent call last)",
      "\u001b[1;32m<ipython-input-77-1a0d2ea65594>\u001b[0m in \u001b[0;36m<module>\u001b[1;34m()\u001b[0m\n\u001b[1;32m----> 1\u001b[1;33m \u001b[0msoup\u001b[0m\u001b[1;33m.\u001b[0m\u001b[0mp\u001b[0m\u001b[1;33m.\u001b[0m\u001b[0mnextSibling\u001b[0m\u001b[1;33m(\u001b[0m\u001b[1;33m)\u001b[0m\u001b[1;33m\u001b[0m\u001b[0m\n\u001b[0m",
      "\u001b[1;31mTypeError\u001b[0m: 'NoneType' object is not callable"
     ]
    }
   ],
   "source": [
    "soup.p.nextSibling()"
   ]
  },
  {
   "cell_type": "code",
   "execution_count": 94,
   "metadata": {
    "collapsed": false
   },
   "outputs": [
    {
     "name": "stdout",
     "output_type": "stream",
     "text": [
      "0\n",
      "1\n",
      "2\n",
      "3\n",
      "4\n",
      "5\n",
      "6\n",
      "7\n",
      "8\n",
      "9\n"
     ]
    }
   ],
   "source": [
    "for i in xrange(10):\n",
    "    \n",
    "    print i \n",
    "    "
   ]
  },
  {
   "cell_type": "code",
   "execution_count": 69,
   "metadata": {
    "collapsed": false
   },
   "outputs": [
    {
     "data": {
      "text/plain": [
       "<bound method BeautifulSoup.prettify of \n",
       "<!DOCTYPE doctype html>\n",
       "\n",
       "<!--[if IEMobile 7 ]> <html lang=\"en-US\" prefix=\"og: http://ogp.me/ns#\"class=\"no-js iem7\"> <![endif]-->\n",
       "<!--[if lt IE 7 ]> <html lang=\"en-US\" prefix=\"og: http://ogp.me/ns#\" class=\"no-js ie6\"> <![endif]-->\n",
       "<!--[if IE 7 ]>    <html lang=\"en-US\" prefix=\"og: http://ogp.me/ns#\" class=\"no-js ie7\"> <![endif]-->\n",
       "<!--[if IE 8 ]>    <html lang=\"en-US\" prefix=\"og: http://ogp.me/ns#\" class=\"no-js ie8\"> <![endif]-->\n",
       "<!--[if (gte IE 9)|(gt IEMobile 7)|!(IEMobile)|!(IE)]><!--><html class=\"no-js\" lang=\"en-US\" prefix=\"og: http://ogp.me/ns#\"><!--<![endif]-->\n",
       "<head>\n",
       "<meta charset=\"utf-8\">\n",
       "<meta content=\"IE=edge,chrome=1\" http-equiv=\"X-UA-Compatible\">\n",
       "<title>Player | Capcom Pro Tour</title>\n",
       "<link href=\"https://capcomprotour.com/wp-content/plugins/sitepress-multilingual-cms/res/css/language-selector.css?v=3.2.7\" media=\"all\" rel=\"stylesheet\" type=\"text/css\"/>\n",
       "<meta content=\"width=device-width, initial-scale=1.0\" name=\"viewport\">\n",
       "<!-- media-queries.js (fallback) -->\n",
       "<!--[if lt IE 9]>\n",
       "\t\t\t<script src=\"https://css3-mediaqueries-js.googlecode.com/svn/trunk/css3-mediaqueries.js\"></script>\t\t\t\n",
       "\t\t<![endif]-->\n",
       "<!-- html5.js -->\n",
       "<!--[if lt IE 9]>\n",
       "\t\t\t<script src=\"https://html5shim.googlecode.com/svn/trunk/html5.js\"></script>\n",
       "\t\t<![endif]-->\n",
       "<link href=\"https://capcomprotour.com/xmlrpc.php\" rel=\"pingback\">\n",
       "<!-- wordpress head functions -->\n",
       "<!-- This site is optimized with the Yoast SEO plugin v2.3.5 - https://yoast.com/wordpress/plugins/seo/ -->\n",
       "<link href=\"https://capcomprotour.com/player/\" rel=\"canonical\"/>\n",
       "<meta content=\"en_US\" property=\"og:locale\"/>\n",
       "<meta content=\"article\" property=\"og:type\"/>\n",
       "<meta content=\"Player | Capcom Pro Tour\" property=\"og:title\"/>\n",
       "<meta content=\"https://capcomprotour.com/player/\" property=\"og:url\"/>\n",
       "<meta content=\"Capcom Pro Tour\" property=\"og:site_name\"/>\n",
       "<meta content=\"summary\" name=\"twitter:card\"/>\n",
       "<meta content=\"Player | Capcom Pro Tour\" name=\"twitter:title\"/>\n",
       "<meta content=\"Capcom Pro Tour\" name=\"twitter:domain\"/>\n",
       "<!-- / Yoast SEO plugin. -->\n",
       "<script type=\"text/javascript\">\n",
       "\t\t\twindow._wpemojiSettings = {\"baseUrl\":\"https:\\/\\/s.w.org\\/images\\/core\\/emoji\\/72x72\\/\",\"ext\":\".png\",\"source\":{\"concatemoji\":\"https:\\/\\/capcomprotour.com\\/wp-includes\\/js\\/wp-emoji-release.min.js?ver=4.3.1\"}};\n",
       "\t\t\t!function(a,b,c){function d(a){var c=b.createElement(\"canvas\"),d=c.getContext&&c.getContext(\"2d\");return d&&d.fillText?(d.textBaseline=\"top\",d.font=\"600 32px Arial\",\"flag\"===a?(d.fillText(String.fromCharCode(55356,56812,55356,56807),0,0),c.toDataURL().length>3e3):(d.fillText(String.fromCharCode(55357,56835),0,0),0!==d.getImageData(16,16,1,1).data[0])):!1}function e(a){var c=b.createElement(\"script\");c.src=a,c.type=\"text/javascript\",b.getElementsByTagName(\"head\")[0].appendChild(c)}var f,g;c.supports={simple:d(\"simple\"),flag:d(\"flag\")},c.DOMReady=!1,c.readyCallback=function(){c.DOMReady=!0},c.supports.simple&&c.supports.flag||(g=function(){c.readyCallback()},b.addEventListener?(b.addEventListener(\"DOMContentLoaded\",g,!1),a.addEventListener(\"load\",g,!1)):(a.attachEvent(\"onload\",g),b.attachEvent(\"onreadystatechange\",function(){\"complete\"===b.readyState&&c.readyCallback()})),f=c.source||{},f.concatemoji?e(f.concatemoji):f.wpemoji&&f.twemoji&&(e(f.twemoji),e(f.wpemoji)))}(window,document,window._wpemojiSettings);\n",
       "\t\t</script>\n",
       "<style type=\"text/css\">\n",
       "img.wp-smiley,\n",
       "img.emoji {\n",
       "\tdisplay: inline !important;\n",
       "\tborder: none !important;\n",
       "\tbox-shadow: none !important;\n",
       "\theight: 1em !important;\n",
       "\twidth: 1em !important;\n",
       "\tmargin: 0 .07em !important;\n",
       "\tvertical-align: -0.1em !important;\n",
       "\tbackground: none !important;\n",
       "\tpadding: 0 !important;\n",
       "}\n",
       "</style>\n",
       "<link href=\"https://capcomprotour.com/wp-content/themes/wordpress-bootstrap-child/magnific-popup.css?ver=4.3.1\" id=\"magnific-popup-css\" media=\"all\" rel=\"stylesheet\" type=\"text/css\"/>\n",
       "<link href=\"https://capcomprotour.com/wp-content/themes/wordpress-bootstrap/library/css/bootstrap.css?ver=1.0\" id=\"bootstrap-css\" media=\"all\" rel=\"stylesheet\" type=\"text/css\"/>\n",
       "<link href=\"https://capcomprotour.com/wp-content/themes/wordpress-bootstrap/library/css/responsive.css?ver=1.0\" id=\"bootstrap-responsive-css\" media=\"all\" rel=\"stylesheet\" type=\"text/css\"/>\n",
       "<link href=\"https://capcomprotour.com/wp-content/themes/wordpress-bootstrap-child/style.css?ver=1.0\" id=\"wp-bootstrap-css\" media=\"all\" rel=\"stylesheet\" type=\"text/css\"/>\n",
       "<link href=\"https://capcomprotour.com/wp-content/plugins/easy-table/themes/default/style.css?ver=1.4\" id=\"easy_table_style-css\" media=\"all\" rel=\"stylesheet\" type=\"text/css\"/>\n",
       "<link href=\"https://fonts.googleapis.com/css?family=Oswald%7COpen+Sans%3A400italic%2C400%2C700&amp;ver=4.3.1\" id=\"googleFonts-css\" media=\"all\" rel=\"stylesheet\" type=\"text/css\"/>\n",
       "<!-- This site uses the Google Analytics by Yoast plugin v5.4.6 - Universal enabled - https://yoast.com/wordpress/plugins/google-analytics/ -->\n",
       "<script type=\"text/javascript\">\n",
       "\t(function(i,s,o,g,r,a,m){i['GoogleAnalyticsObject']=r;i[r]=i[r]||function(){\n",
       "\t\t(i[r].q=i[r].q||[]).push(arguments)},i[r].l=1*new Date();a=s.createElement(o),\n",
       "\t\tm=s.getElementsByTagName(o)[0];a.async=1;a.src=g;m.parentNode.insertBefore(a,m)\n",
       "\t})(window,document,'script','//www.google-analytics.com/analytics.js','__gaTracker');\n",
       "\n",
       "\t__gaTracker('create', 'UA-46371820-2', 'auto');\n",
       "\t__gaTracker('set', 'forceSSL', true);\n",
       "\t__gaTracker('require', 'displayfeatures');\n",
       "\t__gaTracker('send','pageview');\n",
       "\n",
       "</script>\n",
       "<!-- / Google Analytics by Yoast -->\n",
       "<script src=\"https://capcomprotour.com/wp-includes/js/jquery/jquery.js?ver=1.11.3\" type=\"text/javascript\"></script>\n",
       "<script src=\"https://capcomprotour.com/wp-includes/js/jquery/jquery-migrate.min.js?ver=1.2.1\" type=\"text/javascript\"></script>\n",
       "<script src=\"https://capcomprotour.com/wp-content/themes/wordpress-bootstrap/library/js/bootstrap.min.js?ver=1.2\" type=\"text/javascript\"></script>\n",
       "<script src=\"https://capcomprotour.com/wp-content/themes/wordpress-bootstrap/library/js/scripts.js?ver=1.2\" type=\"text/javascript\"></script>\n",
       "<script src=\"https://capcomprotour.com/wp-content/themes/wordpress-bootstrap/library/js/modernizr.full.min.js?ver=2.8.3\" type=\"text/javascript\"></script>\n",
       "<script src=\"https://capcomprotour.com/wp-content/plugins/sitepress-multilingual-cms/res/js/jquery.cookie.js?ver=3.2.7\" type=\"text/javascript\"></script>\n",
       "<script type=\"text/javascript\">\n",
       "/* <![CDATA[ */\n",
       "var wpml_browser_redirect_params = {\"pageLanguage\":\"en\",\"languageUrls\":{\"en_US\":\"https:\\/\\/capcomprotour.com\\/player\\/\",\"en\":\"https:\\/\\/capcomprotour.com\\/player\\/\",\"US\":\"https:\\/\\/capcomprotour.com\\/player\\/\",\"pt_BR\":\"https:\\/\\/capcomprotour.com\\/player\\/?lang=pt-br\",\"pt\":\"https:\\/\\/capcomprotour.com\\/player\\/?lang=pt-br\",\"BR\":\"https:\\/\\/capcomprotour.com\\/player\\/?lang=pt-br\",\"pt-br\":\"https:\\/\\/capcomprotour.com\\/player\\/?lang=pt-br\"},\"cookie\":{\"name\":\"_icl_visitor_lang_js\",\"domain\":\"capcomprotour.com\",\"path\":\"\\/\",\"expiration\":24}};\n",
       "/* ]]> */\n",
       "</script>\n",
       "<script src=\"https://capcomprotour.com/wp-content/plugins/sitepress-multilingual-cms/res/js/browser-redirect.js?ver=3.2.7\" type=\"text/javascript\"></script>\n",
       "<link href=\"https://capcomprotour.com/?p=8826\" rel=\"shortlink\"/>\n",
       "<!-- This site is using AdRotate v3.17.1 Professional to display their advertisements - https://ajdg.solutions/products/adrotate-for-wordpress/ -->\n",
       "<!-- AdRotate CSS -->\n",
       "<style media=\"screen\" type=\"text/css\">\n",
       "\t.g { margin:0px; padding:0px; overflow:hidden; line-height:1; zoom:1; }\n",
       "\t.g img { height:auto; }\n",
       "\t.g-col { position:relative; float:left; }\n",
       "\t.g-col:first-child { margin-left: 0; }\n",
       "\t.g-col:last-child { margin-right: 0; }\n",
       "\t.g-1 { min-width:8px; max-width:936px; }\n",
       "\t.b-1 { margin:10px 8px 1px 8px; }\n",
       "\t.g-2 { min-width:8px; max-width:936px; }\n",
       "\t.b-2 { margin:10px 8px 1px 8px; }\n",
       "\t@media only screen and (max-width: 480px) {\n",
       "\t\t.g-col, .g-dyn, .g-single { width:100%; margin-left:0; margin-right:0; }\n",
       "\t}\n",
       "</style>\n",
       "<!-- /AdRotate CSS -->\n",
       "<meta content=\"WPML ver:3.2.7 stt:1,44;\" name=\"generator\"/>\n",
       "<link href=\"https://capcomprotour.com/player/\" hreflang=\"en-US\" rel=\"alternate\"/>\n",
       "<link href=\"https://capcomprotour.com/player/?lang=pt-br\" hreflang=\"pt-BR\" rel=\"alternate\"/>\n",
       "<!-- end of wordpress head -->\n",
       "<!-- theme options from options panel -->\n",
       "<style>\n",
       "        h1, h2, h3, h4, h5, h6{ \n",
       "          font-family: arial; \n",
       "          font-weight: normal; \n",
       "          color: ; \n",
       "        }\n",
       "        body{ \n",
       "          font-family: arial; \n",
       "          font-weight: normal; \n",
       "          color: ; \n",
       "        }\n",
       "        .navbar{ \n",
       "          position: static; \n",
       "        }\n",
       "        body{\n",
       "          padding-top: 0;\n",
       "        }\n",
       "        #content {\n",
       "          padding-top: 27px;\n",
       "        }\n",
       "        \n",
       "        .navbar-inner, .navbar .fill { \n",
       "          background-color: #151515;\n",
       "          background-image: none;\n",
       "        }\n",
       "        .navbar .nav li a { \n",
       "          color: #999999;\n",
       "        }\n",
       "        .navbar .nav li a:hover { \n",
       "          color: #ffffff;\n",
       "        }\n",
       "        #main article {\n",
       "          border-bottom: none;\n",
       "        }\n",
       "        </style>\n",
       "<!-- typeahead plugin - if top nav search bar enabled -->\n",
       "</link></meta></meta></meta></head>\n",
       "<body class=\"page page-id-8826 page-template page-template-custom-universal-player-template page-template-custom-universal-player-template-php\">\n",
       "<header role=\"banner\">\n",
       "<div class=\"clearfix\" id=\"inner-header\">\n",
       "<div class=\"aga-social\">\n",
       "<div class=\"container-fluid social-container\">\n",
       "<div class=\"row-fluid\">\n",
       "<div class=\"span12 aga-social-inner clearfix\">\n",
       "<a class=\"aga-brand\" href=\"https://capcomprotour.com\" id=\"logo\" title=\"Ultra Street FIghter IV\">\n",
       "<img alt=\"Ultra Street FIghter IV\" src=\"https://capcomprotour.com/wp-content/uploads/2014/02/capcom-pt-logo.png\">\n",
       "</img></a>\n",
       "<div class=\"language-selector\"><div id=\"lang_sel\"><ul><li><a class=\"lang_sel_sel icl-en\" href=\"#\"><img alt=\"en\" class=\"iclflag\" src=\"https://capcomprotour.com/wp-content/plugins/sitepress-multilingual-cms/res/flags/us.png\" title=\"English\"/>\n",
       "\t\t\t\t\t\t\t\t English</a> <ul><li class=\"icl-pt-br\"><a href=\"https://capcomprotour.com/player/?lang=pt-br\"><img alt=\"pt-br\" class=\"iclflag\" src=\"https://capcomprotour.com/wp-content/plugins/sitepress-multilingual-cms/res/flags/pt-br.png\" title=\"Português\"/> Português</a></li></ul></li></ul></div></div>\n",
       "<div class=\"widget_text\" id=\"text-19\"> <div class=\"textwidget\"><ul class=\"aga-utilities\">\n",
       "<li><a class=\"btn btn-info\" href=\"http://live.capcomprotour.com/\" target=\"_blank\">Watch Now!</a></li>\n",
       "</ul></div>\n",
       "</div>\n",
       "<ul class=\"social-links clearfix\">\n",
       "<li><a href=\"http://www.facebook.com/CapcomFighters\" target=\"_blank\"><img alt=\"Facebook Logo\" src=\"https://capcomprotour.com/wp-content/uploads/2014/02/Facebook-24.png\"/></a></li>\n",
       "<li><a href=\"http://www.twitter.com/CapcomFighters\" target=\"_blank\"><img alt=\"Twitter Logo\" src=\"https://capcomprotour.com/wp-content/uploads/2014/02/Twitter-24.png\"/></a></li>\n",
       "<li><a href=\"http://www.youtube.com/CapcomFightersTV\" target=\"_blank\"><img alt=\"Youtube Logo\" src=\"https://capcomprotour.com/wp-content/uploads/2014/02/Youtube-24.png\"/></a></li>\n",
       "</ul>\n",
       "</div>\n",
       "</div>\n",
       "</div>\n",
       "</div>\n",
       "<div class=\"container-fluid nav-container\">\n",
       "<nav role=\"navigation\">\n",
       "<div class=\"row-fluid\">\n",
       "<div class=\"span12\">\n",
       "<div class=\"navbar navbar-fixed-top aga-navbar\">\n",
       "<div class=\"navbar-inner\">\n",
       "<a class=\"btn btn-navbar\" data-target=\".nav-collapse\" data-toggle=\"collapse\">\n",
       "<span class=\"icon-bar\"></span>\n",
       "<span class=\"icon-bar\"></span>\n",
       "<span class=\"icon-bar\"></span>\n",
       "</a>\n",
       "<div class=\"nav-collapse\">\n",
       "<ul class=\"nav\" id=\"menu-global-nav\"><li class=\"menu-item menu-item-type-post_type menu-item-object-page\" id=\"menu-item-20\"><a href=\"https://capcomprotour.com/schedule/\">Schedule</a></li><li class=\"menu-item menu-item-type-post_type menu-item-object-page\" id=\"menu-item-397\"><a href=\"https://capcomprotour.com/standings/\">Standings</a></li><li class=\"menu-item menu-item-type-post_type menu-item-object-page\" id=\"menu-item-478\"><a href=\"https://capcomprotour.com/videos/\">Videos</a></li><li class=\"menu-item menu-item-type-post_type menu-item-object-page\" id=\"menu-item-19\"><a href=\"https://capcomprotour.com/about/\">About</a></li><li class=\"menu-item menu-item-type-taxonomy menu-item-object-category\" id=\"menu-item-50\"><a href=\"https://capcomprotour.com/category/news/\">News</a></li><li class=\"menu-item menu-item-type-post_type menu-item-object-page\" id=\"menu-item-547\"><a href=\"https://capcomprotour.com/rules/\">Rules</a></li><li class=\"menu-item menu-item-type-post_type menu-item-object-page\" id=\"menu-item-1831\"><a href=\"https://capcomprotour.com/sponsors/\">Sponsors</a></li><li class=\"aga-mobile-link menu-item menu-item-type-custom menu-item-object-custom\" id=\"menu-item-9545\"><a href=\"http://live.capcomprotour.com/\" target=\"_blank\">Watch Now!</a></li></ul> </div>\n",
       "</div>\n",
       "</div>\n",
       "</div></div></nav>\n",
       "</div> <!-- end .navbar-inner -->\n",
       "</div> <!-- end .navbar -->\n",
       "</header></body></html> <!-- end .nav-container -->\n",
       " <!-- end #inner-header -->\n",
       " <!-- end header -->\n",
       "<div class=\"container-fluid aga-wrapper\">\n",
       "<div class=\"clearfix row-fluid\" id=\"content\">\n",
       "<div class=\"span8 aga-main clearfix\" id=\"main\" role=\"main\">\n",
       "<article class=\"clearfix post-8826 page type-page status-publish hentry\" id=\"post-8826\" itemscope=\"\" itemtype=\"http://schema.org/BlogPosting\" role=\"article\">\n",
       "<header>\n",
       "<div class=\"breadcrumbs\">\n",
       "</div>\n",
       "<div class=\"page-header\">\n",
       "<img alt=\"Capcom Cup 2014 Qualifier\" class=\"aga-qualified\" src=\"https://capcomprotour.com/wp-content/uploads/2014/03/logo-qualified.jpg\" title=\"Capcom Cup 2014 Qualifier\"> <h1 class=\"page-title\" itemprop=\"headline\">\n",
       "                                    EG|Momochi                                </h1>\n",
       "</img></div>\n",
       "</header> <!-- end article header -->\n",
       "<section class=\"post_content clearfix\" itemprop=\"articleBody\">\n",
       "<div class=\"aga-featured-standings clearfix\">\n",
       "<div class=\"row-fluid\">\n",
       "<div class=\"span3\">\n",
       "<img alt=\"EG|Momochi\" class=\"lazy lazy-hidden attachment-full wp-post-image\" data-lazy-src=\"https://capcomprotour.com/wp-content/uploads/2015/11/momochi.jpg\" data-lazy-type=\"image\" src=\"data:image/gif;base64,R0lGODdhAQABAPAAAP///wAAACwAAAAAAQABAEACAkQBADs=\"/><noscript><img alt=\"EG|Momochi\" class=\"attachment-full wp-post-image\" src=\"https://capcomprotour.com/wp-content/uploads/2015/11/momochi.jpg\"/></noscript> </div>\n",
       "<div class=\"span9\">\n",
       "<h3>Yusuke Momochi</h3>\n",
       "<table class=\"aga-player-stats\">\n",
       "<tr>\n",
       "<td class=\"aga-player-title\"><p>Country:</p></td>\n",
       "<td><p>Japan</p></td>\n",
       "</tr>\n",
       "<tr>\n",
       "<td class=\"aga-player-title\"><p>Characters:</p></td>\n",
       "<td><p>Ken, Juri, Evil Ryu, Guy</p></td>\n",
       "</tr>\n",
       "<tr>\n",
       "<td class=\"aga-player-title\"><p>Points:</p></td>\n",
       "<td><p>1374</p></td>\n",
       "</tr>\n",
       "<tr>\n",
       "<td class=\"aga-player-title\"><p>Career Points:</p></td>\n",
       "<td><p>1802</p></td>\n",
       "</tr>\n",
       "<tr>\n",
       "<td class=\"aga-player-title\"><p>Achievements:</p></td>\n",
       "<td><p><p>1st Place Capcom Cup 2014</p><p>1st Place SEAM 2014</p><p>2nd Place CEO 2014</p><p>2rd Place Topanga League 4 A</p><p>2nd Place CEO 2013</p><p>7th Place EVO 2014</p><p>2nd Place CEO 2012</p><p>25th EVO 2012</p><p>1st Place Seasons Beatings Velocity (2011)</p><p>17th Place EVO 2011</p><p>2nd Place Shadowloo Showdown 2011</p><p>2nd place at GodsGarden 4 Invitational in 2011.</p><p>2nd Place Seasons Beatings Redemption (2010)</p><p>Was part of a three player team, including RF and Kindevu, that took first place at SBO in 2010 for Street Fighter 4.</p><p>Won first Super Battle Opera (SBO) title in 2009.</p></p></td>\n",
       "</tr>\n",
       "</table>\n",
       "</div>\n",
       "</div>\n",
       "<p></p>\n",
       "<h3>Highlights</h3>\n",
       "<iframe allowfullscreen=\"\" frameborder=\"0\" height=\"315\" src=\"//www.youtube.com/embed/_eOujn4XoY4\" width=\"560\"></iframe>\n",
       "<hr/>\n",
       "<a class=\"btn btn-primary\" href=\"\">Back</a>\n",
       "</div>\n",
       "</section> <!-- end article section -->\n",
       "<footer>\n",
       "</footer> <!-- end article footer -->\n",
       "</article> <!-- end article -->\n",
       "<!-- You can start editing here. -->\n",
       "</div> <!-- end #main -->\n",
       "<div class=\"sidebar aga-sidebar span4 clearfix\">\n",
       "<h4 class=\"widgettitle\">Latest Posts</h4>\n",
       "<div class=\"item active\">\n",
       "<a href=\"https://capcomprotour.com/premier-tournament-canada-cup-2015-highlights/\"><img alt=\"canada-cup-2015-recap\" class=\"lazy lazy-hidden attachment-medium wp-post-image\" data-lazy-src=\"https://capcomprotour.com/wp-content/uploads/2015/11/canada-cup-2015-recap-300x143.jpg\" data-lazy-type=\"image\" src=\"data:image/gif;base64,R0lGODdhAQABAPAAAP///wAAACwAAAAAAQABAEACAkQBADs=\"/><noscript><img alt=\"canada-cup-2015-recap\" class=\"attachment-medium wp-post-image\" src=\"https://capcomprotour.com/wp-content/uploads/2015/11/canada-cup-2015-recap-300x143.jpg\"/></noscript></a>\n",
       "<p><a href=\"https://capcomprotour.com/premier-tournament-canada-cup-2015-highlights/\">PREMIER TOURNAMENT: Canada Cup 2015 Highlights</a></p>\n",
       "</div><!-- item active -->\n",
       "<div class=\"item\">\n",
       "<a href=\"https://capcomprotour.com/premier-tournament-canada-cup-2015-results-mcztokido-wins-and-epic-grand-finals-nobody-qualifies-for-capcom-cup/\"><img alt=\"Canada_cup_2015\" class=\"lazy lazy-hidden attachment-medium wp-post-image\" data-lazy-src=\"https://capcomprotour.com/wp-content/uploads/2015/10/Canada_cup_2015-300x143.jpg\" data-lazy-type=\"image\" src=\"data:image/gif;base64,R0lGODdhAQABAPAAAP///wAAACwAAAAAAQABAEACAkQBADs=\"/><noscript><img alt=\"Canada_cup_2015\" class=\"attachment-medium wp-post-image\" src=\"https://capcomprotour.com/wp-content/uploads/2015/10/Canada_cup_2015-300x143.jpg\"/></noscript></a>\n",
       "<p><a href=\"https://capcomprotour.com/premier-tournament-canada-cup-2015-results-mcztokido-wins-and-epic-grand-finals-nobody-qualifies-for-capcom-cup/\">PREMIER TOURNAMENT: Canada Cup 2015 Results – MCZ|Tokido wins an Epic Grand Finals, Nobody Qualifies for Capcom Cup</a></p>\n",
       "</div><!-- item -->\n",
       "<div class=\"item\">\n",
       "<a href=\"https://capcomprotour.com/premier-tournament-canada-cup-2015/\"><img alt=\"Canada_cup_2015\" class=\"lazy lazy-hidden attachment-medium wp-post-image\" data-lazy-src=\"https://capcomprotour.com/wp-content/uploads/2015/10/Canada_cup_2015-300x143.jpg\" data-lazy-type=\"image\" src=\"data:image/gif;base64,R0lGODdhAQABAPAAAP///wAAACwAAAAAAQABAEACAkQBADs=\"/><noscript><img alt=\"Canada_cup_2015\" class=\"attachment-medium wp-post-image\" src=\"https://capcomprotour.com/wp-content/uploads/2015/10/Canada_cup_2015-300x143.jpg\"/></noscript></a>\n",
       "<p><a href=\"https://capcomprotour.com/premier-tournament-canada-cup-2015/\">PREMIER TOURNAMENT:  Canada Cup 2015</a></p>\n",
       "</div><!-- item -->\n",
       "</div>\n",
       "</div> <!-- end #content -->\n",
       "<footer role=\"contentinfo\">\n",
       "<div class=\"clearfix\" id=\"inner-footer\">\n",
       "<div class=\"clearfix row-fluid\" id=\"widget-footer\">\n",
       "<div class=\"widget span4 widget_adrotate_widgets\" id=\"adrotate_widgets-2\"><h4 class=\"widgettitle\">Our Sponsors</h4><!-- mfunc W3TC_DYNAMIC_SECURITY --><div class=\"g g-1\"><div class=\"g-col b-1 a-8\"><a class=\"gofollow\" data-track=\"OCwxLDEsMTA=\" href=\"http://madcatz.com/\" target=\"_blank\"><img src=\"https://capcomprotour.com/wp-content/uploads/2015/04/sponsor-madcatz-80.jpg\"/></a></div><div class=\"g-col b-1 a-12\"><a class=\"gofollow\" data-track=\"MTIsMSwxLDEw\" href=\"http://www.turtlebeach.com/\" target=\"_blank\"><img src=\"https://capcomprotour.com/wp-content/uploads/2015/04/sponsor-turtle-beach-80.jpg\"/></a></div><div class=\"g-col b-1 a-14\"><a href=\"http://xsplit.com/cpt\" target=\"_blank\"><img src=\"https://capcomprotour.com/wp-content/uploads/2015/04/sponsor-xsplit-80.jpg\"/></a></div></div><!-- /mfunc --></div>\n",
       "</div>\n",
       "<nav class=\"clearfix\">\n",
       "</nav>\n",
       "</div> <!-- end #inner-footer -->\n",
       "</footer> <!-- end footer -->\n",
       "</div> <!-- end #container -->\n",
       "\n",
       "<div class=\"container-fluid aga-capcom-legal\">\n",
       "<div class=\"row-fluid aga-footer\">\n",
       "<div class=\"widget span4 widget_text\" id=\"text-6\"> <div class=\"textwidget\"><div class=\"span7\">\n",
       "<div class=\"capcomLogo\">\n",
       "<a href=\"http://www.capcom.com\" onclick=\"__gaTracker('send', 'event', 'outbound-widget', 'http://www.capcom.com', '');\"><img class=\"lazy lazy-hidden\" data-lazy-src=\"https://capcomprotour.com/wp-content/uploads/2014/02/CAPCOM-logo.png\" data-lazy-type=\"image\" src=\"data:image/gif;base64,R0lGODdhAQABAPAAAP///wAAACwAAAAAAQABAEACAkQBADs=\"/><noscript><img src=\"https://capcomprotour.com/wp-content/uploads/2014/02/CAPCOM-logo.png\"/></noscript></a>\n",
       "<a href=\"http://www.twitch.tv\" onclick=\"__gaTracker('send', 'event', 'outbound-widget', 'http://www.twitch.tv', '');\"><img class=\"lazy lazy-hidden\" data-lazy-src=\"https://capcomprotour.com/wp-content/uploads/2014/03/twitch-logo.png\" data-lazy-type=\"image\" src=\"data:image/gif;base64,R0lGODdhAQABAPAAAP///wAAACwAAAAAAQABAEACAkQBADs=\"/><noscript><img src=\"https://capcomprotour.com/wp-content/uploads/2014/03/twitch-logo.png\"/></noscript></a>\n",
       "</div><!-- .capcomLogo -->\n",
       "<div class=\"ssnav\">\n",
       "<ul class=\"clearfix\">\n",
       "<li><span>Details subject to change.</span></li>\n",
       "<li><a href=\"http://www.capcom.com/capcom/legal_privacy/legal.php\" onclick=\"__gaTracker('send', 'event', 'outbound-widget', 'http://www.capcom.com/capcom/legal_privacy/legal.php', 'LEGAL NOTICE');\">LEGAL NOTICE</a></li>\n",
       "<li class=\"aga-end\"><a href=\"http://www.capcom.com/capcom/legal_privacy/privacy.html\" onclick=\"__gaTracker('send', 'event', 'outbound-widget', 'http://www.capcom.com/capcom/legal_privacy/privacy.html', 'PRIVACY POLICY');\" style=\"border:none;\">PRIVACY POLICY</a></li>\n",
       "</ul>\n",
       "<p>©CAPCOM U.S.A., INC. ALL RIGHTS RESERVED.</p>\n",
       "</div><!-- .ssnav -->\n",
       "</div>\n",
       "<div class=\"span5\">\n",
       "<a class=\"aga-esrb\" href=\"http://www.esrb.org/index-js.jsp\" onclick=\"__gaTracker('send', 'event', 'outbound-widget', 'http://www.esrb.org/index-js.jsp', '');\"><img class=\"lazy lazy-hidden\" data-lazy-src=\"https://capcomprotour.com/wp-content/uploads/2014/02/SSFIVAE_ESRB.gif\" data-lazy-type=\"image\" src=\"data:image/gif;base64,R0lGODdhAQABAPAAAP///wAAACwAAAAAAQABAEACAkQBADs=\"/><noscript><img src=\"https://capcomprotour.com/wp-content/uploads/2014/02/SSFIVAE_ESRB.gif\"/></noscript></a>\n",
       "</div></div>\n",
       "</div> </div>\n",
       "</div>\n",
       "<!--[if lt IE 7 ]>\n",
       "  \t\t\t<script src=\"//ajax.googleapis.com/ajax/libs/chrome-frame/1.0.3/CFInstall.min.js\"></script>\n",
       "  \t\t\t<script>window.attachEvent('onload',function(){CFInstall.check({mode:'overlay'})})</script>\n",
       "\t\t<![endif]-->\n",
       "<script type=\"text/javascript\">\n",
       "/* <![CDATA[ */\n",
       "var impression_object = {\"ajax_url\":\"https:\\/\\/capcomprotour.com\\/wp-admin\\/admin-ajax.php\"};\n",
       "/* ]]> */\n",
       "</script>\n",
       "<script src=\"https://capcomprotour.com/wp-content/plugins/adrotate-pro/library/jquery.adrotate.dyngroup.js\" type=\"text/javascript\"></script>\n",
       "<script type=\"text/javascript\">\n",
       "/* <![CDATA[ */\n",
       "var click_object = {\"ajax_url\":\"https:\\/\\/capcomprotour.com\\/wp-admin\\/admin-ajax.php\"};\n",
       "/* ]]> */\n",
       "</script>\n",
       "<script src=\"https://capcomprotour.com/wp-content/plugins/adrotate-pro/library/jquery.adrotate.clicktracker.js\" type=\"text/javascript\"></script>\n",
       "<script src=\"https://cdn.jsdelivr.net/jquery.mixitup/latest/jquery.mixitup.min.js?ver=4.3.1\" type=\"text/javascript\"></script>\n",
       "<script src=\"https://capcomprotour.com/wp-content/themes/wordpress-bootstrap-child/library/js/jquery.magnific-popup.min.js?ver=4.3.1\" type=\"text/javascript\"></script>\n",
       "<script src=\"https://capcomprotour.com/wp-content/themes/wordpress-bootstrap-child/library/js/jquery.fitvids.js?ver=4.3.1\" type=\"text/javascript\"></script>\n",
       "<script src=\"https://capcomprotour.com/wp-content/themes/wordpress-bootstrap-child/library/js/ourstuff.js?ver=4.3.1\" type=\"text/javascript\"></script>\n",
       "<script src=\"https://capcomprotour.com/wp-content/plugins/bj-lazy-load/js/bj-lazy-load.min.js?ver=2\" type=\"text/javascript\"></script>\n",
       "<script type=\"text/javascript\">\n",
       "/* <![CDATA[ */\n",
       "var icl_vars = {\"current_language\":\"en\",\"icl_home\":\"https:\\/\\/capcomprotour.com\",\"ajax_url\":\"https:\\/\\/capcomprotour.com\\/wp-admin\\/admin-ajax.php\",\"url_type\":\"3\"};\n",
       "/* ]]> */\n",
       "</script>\n",
       "<script src=\"https://capcomprotour.com/wp-content/plugins/sitepress-multilingual-cms/res/js/sitepress.js?ver=4.3.1\" type=\"text/javascript\"></script>\n",
       "<!-- AdRotate JS -->\n",
       "<script type=\"text/javascript\">\n",
       "</script>\n",
       "<!-- /AdRotate JS -->\n",
       "\n",
       "\n",
       "<!-- Performance optimized by W3 Total Cache. Learn more: http://www.w3-edge.com/wordpress-plugins/\n",
       "\n",
       "Page Caching using disk: enhanced (Requested URI contains query)\n",
       "Database Caching 34/103 queries in 0.048 seconds using disk\n",
       "Object Caching 4760/4789 objects using disk\n",
       "\n",
       " Served from: capcomprotour.com @ 2015-11-07 19:34:57 by W3 Total Cache -->>"
      ]
     },
     "execution_count": 69,
     "metadata": {},
     "output_type": "execute_result"
    }
   ],
   "source": [
    "soup.prettify"
   ]
  },
  {
   "cell_type": "code",
   "execution_count": 35,
   "metadata": {
    "collapsed": false
   },
   "outputs": [
    {
     "data": {
      "text/plain": [
       "u'50'"
      ]
     },
     "execution_count": 35,
     "metadata": {},
     "output_type": "execute_result"
    }
   ],
   "source": [
    "soup.findAll('tr')[-1].td.text"
   ]
  },
  {
   "cell_type": "code",
   "execution_count": 30,
   "metadata": {
    "collapsed": false
   },
   "outputs": [
    {
     "data": {
      "text/plain": [
       "u'https://capcomprotour.com/player/?player=5195&lang=en-us'"
      ]
     },
     "execution_count": 30,
     "metadata": {},
     "output_type": "execute_result"
    }
   ],
   "source": [
    "soup.findAll('tr')[-1].a.get('href')"
   ]
  },
  {
   "cell_type": "code",
   "execution_count": 32,
   "metadata": {
    "collapsed": false,
    "scrolled": false
   },
   "outputs": [
    {
     "data": {
      "text/plain": [
       "u'EG|Momochi'"
      ]
     },
     "execution_count": 32,
     "metadata": {},
     "output_type": "execute_result"
    }
   ],
   "source": [
    "soup.findAll('tr')[1].a.text"
   ]
  },
  {
   "cell_type": "code",
   "execution_count": 280,
   "metadata": {
    "collapsed": false
   },
   "outputs": [
    {
     "data": {
      "text/plain": [
       "['02-27-2015 - 03-01-2015',\n",
       " '03-07-2015 - 03-07-2015',\n",
       " '03-15-2015 - 03-15-2015',\n",
       " '03-20-2015 - 03-22-2015',\n",
       " '04-03-2015 - 04-05-2015',\n",
       " '04-04-2015 - 04-05-2015',\n",
       " '04-24-2015 - 04-26-2015',\n",
       " '04-25-2015 - 04-25-2015',\n",
       " '05-04-2015 - 05-04-2015',\n",
       " '05-08-2015 - 05-10-2015',\n",
       " '05-22-2015 - 05-24-2015',\n",
       " '05-22-2015 - 05-24-2015',\n",
       " '05-29-2015 - 05-31-2015',\n",
       " '06-13-2015 - 06-16-2015',\n",
       " '06-19-2015 - 06-21-2015',\n",
       " '06-26-2015 - 06-28-2015',\n",
       " '07-17-2015 - 07-19-2015',\n",
       " '07-31-2015 - 08-01-2015',\n",
       " '08-08-2015 - 08-09-2015',\n",
       " '08-08-2015 - 08-09-2015',\n",
       " '08-22-2015 - 08-22-2015',\n",
       " '08-28-2015 - 08-30-2015',\n",
       " '08-29-2015 - 08-29-2015',\n",
       " '09-04-2015 - 09-06-2015',\n",
       " '09-04-2015 - 09-06-2015',\n",
       " '09-11-2015 - 09-13-2015',\n",
       " '09-12-2015 - 09-12-2015',\n",
       " '09-20-2015 - 09-20-2015',\n",
       " '09-24-2015 - 09-26-2015',\n",
       " '09-24-2015 - 09-27-2015',\n",
       " '09-25-2015 - 09-27-2015',\n",
       " '10-03-2015 - 10-04-2015',\n",
       " '10-03-2015 - 10-04-2015',\n",
       " '10-09-2015 - 10-11-2015',\n",
       " '10-10-2015 - 10-12-2015',\n",
       " '10-17-2015 - 10-17-2015',\n",
       " '10-23-2015 - 10-25-2015',\n",
       " '10-24-2015 - 10-25-2015',\n",
       " '10-25-2015 - 10-25-2015',\n",
       " '10-30-2015 - 11-01-2015']"
      ]
     },
     "execution_count": 280,
     "metadata": {},
     "output_type": "execute_result"
    }
   ],
   "source": [
    "scrape_tourney_dates(6)"
   ]
  },
  {
   "cell_type": "code",
   "execution_count": 13,
   "metadata": {
    "collapsed": false
   },
   "outputs": [],
   "source": [
    "all_dat = []\n",
    "all_title = []\n",
    "for url in scrape_results_urls():\n",
    "    title, dat = scrape_url_standings(url)\n",
    "    all_title.append(title)\n",
    "    all_dat.append(dat)\n",
    "import copy\n",
    "raw_dat = copy.copy(all_dat)\n",
    "raw_title = copy.copy(all_title)"
   ]
  },
  {
   "cell_type": "code",
   "execution_count": 4,
   "metadata": {
    "collapsed": false
   },
   "outputs": [],
   "source": [
    "import cPickle\n",
    "# cPickle.dump(clean_titles, open('clean_titles.p', 'wb')) "
   ]
  },
  {
   "cell_type": "code",
   "execution_count": 10,
   "metadata": {
    "collapsed": false
   },
   "outputs": [
    {
     "ename": "EOFError",
     "evalue": "",
     "output_type": "error",
     "traceback": [
      "\u001b[1;31m---------------------------------------------------------------------------\u001b[0m",
      "\u001b[1;31mEOFError\u001b[0m                                  Traceback (most recent call last)",
      "\u001b[1;32m<ipython-input-10-354b55de35ab>\u001b[0m in \u001b[0;36m<module>\u001b[1;34m()\u001b[0m\n\u001b[0;32m      1\u001b[0m \u001b[1;32mwith\u001b[0m \u001b[0mopen\u001b[0m\u001b[1;33m(\u001b[0m\u001b[1;34m'data/all_dat_RAW.p'\u001b[0m\u001b[1;33m,\u001b[0m\u001b[1;34m'rb'\u001b[0m\u001b[1;33m)\u001b[0m \u001b[1;32mas\u001b[0m \u001b[0mf\u001b[0m\u001b[1;33m:\u001b[0m\u001b[1;33m\u001b[0m\u001b[0m\n\u001b[1;32m----> 2\u001b[1;33m     \u001b[0mraw_dat\u001b[0m \u001b[1;33m=\u001b[0m \u001b[0mcPickle\u001b[0m\u001b[1;33m.\u001b[0m\u001b[0mload\u001b[0m\u001b[1;33m(\u001b[0m\u001b[0mf\u001b[0m\u001b[1;33m)\u001b[0m\u001b[1;33m\u001b[0m\u001b[0m\n\u001b[0m",
      "\u001b[1;31mEOFError\u001b[0m: "
     ]
    }
   ],
   "source": [
    "# with open('data/all_dat_RAW.p','rb') as f:\n",
    "#     raw_dat = cPickle.load(f)"
   ]
  },
  {
   "cell_type": "code",
   "execution_count": 8,
   "metadata": {
    "collapsed": false
   },
   "outputs": [
    {
     "data": {
      "text/plain": [
       "[(1, 'Poongko', ['Seth', 'El Fuerte'], 128),\n",
       " (2, 'Sako', ['Elena', 'Evil Ryu', 'Gen'], 64),\n",
       " (3, 'Infiltration', ['Decapre', 'Akuma', 'Hakan'], 32),\n",
       " (4, 'JehoSan', ['Cammy', 'Decapre', 'Guile'], 16),\n",
       " (5, 'Tonpy', ['C.Viper'], 8),\n",
       " (5, 'Valmaster', ['Chun-Li'], 8),\n",
       " (7, 'Dieminion', ['Guile'], 4),\n",
       " (7, 'Xiao Hai', ['Cammy'], 4),\n",
       " (9, 'ImStillDaDaddy', ['Guile'], 2),\n",
       " (9, 'Ninja Shakz', ['Abel'], 2),\n",
       " (9, 'Prodigal Son', ['Sagat', 'Ryu', 'Abel'], 2),\n",
       " (9, 'Problem X', ['C.Viper'], 2),\n",
       " (13, 'F-Word', ['Ibuki'], 1),\n",
       " (13, 'Pro Fluke', ['El Fuerte'], 1),\n",
       " (13, 'Renegad', ['Poison'], 1),\n",
       " (13, 'Phenom', ['M.Bison'], 1)]"
      ]
     },
     "execution_count": 8,
     "metadata": {},
     "output_type": "execute_result"
    }
   ],
   "source": [
    "raw_dat[0]"
   ]
  },
  {
   "cell_type": "code",
   "execution_count": 152,
   "metadata": {
    "collapsed": true
   },
   "outputs": [],
   "source": [
    "abudjet = [\n",
    "    [u'1st', u'Dark Jiewa', u'Ken', u'128'],\n",
    "    [u'2nd', u'CCG|Humanbomb', u'Sakura/Poison/Ryu', u'64'],\n",
    "    [u'3rd', u'Chuan', u'Guile/Fei Long/Zangief/Yun', u'32'],\n",
    "    [u'4th', u'XiaoLong', u'M.Bison', u'16'],\n",
    "    [u'5th', u'GL|Saunic', u'Ibuki/Dhalsim', u'8'],\n",
    "    [u'5th', u'Revenger32', u'Abel', u'8'],\n",
    "    [u'7th', u'CodyNp', u'Decapre/Poison/Ryu', u'4'],\n",
    "    [u'7th', u'Dian', u'Guile/M.Bison', u'4'],\n",
    "    [u'9th', u'Susubabi', u'Sagat', u'2'],\n",
    "    [u'9th', u'AHo', u'Rolento', u'2'],\n",
    "    [u'9th', u'Shamwow', u'Rose', u'2'],\n",
    "    [u'9th', u'Cameraman', u'T.Hawk', u'2'],\n",
    "    [u'13th', u'Nekopunch', u'Yun', u'1'],\n",
    "    [u'13th', u'Kenmike77', u'Ken', u'1'],\n",
    "    [u'13th', u'Ush', u'Poison', u'1'],\n",
    "    [u'13th', u'Drapoyo', u'Guile', u'1'],\n",
    "]"
   ]
  },
  {
   "cell_type": "code",
   "execution_count": 155,
   "metadata": {
    "collapsed": true
   },
   "outputs": [],
   "source": [
    "cannes = [[u'1st', u' /r/Kappa|Poongko', u'Seth/El Fuerte ', u' 128'],\n",
    " [u'2nd', u' HORI|Sako', u' Elena/Evil Ryu/Gen', u' 64'],\n",
    " [u'3rd', u' /r/Kappa|Infiltration', u' Decapre/Akuma/Hakan', u' 32'],\n",
    " [u'4th', u' JehoSan', u' Cammy/Decapre/Guile', u' 16'],\n",
    " [u'5th', u' Tonpy', u' C.Viper', u' 8'],\n",
    " [u'5th', u'GL|Valmaster', u' Chun-Li', u' 8'],\n",
    " [u'7th', u'Dieminion', u' Guile', u' 4'],\n",
    " [u'7th', u'Qanba|Xiao Hai', u' Cammy', u' 4'],\n",
    " [u'9th', u'UM|ImStillDaDaddy', u' Guile', u' 2'],\n",
    " [u'9th', u'Ninja Shakz', u' Abel', u' 2'],\n",
    " [u'9th', u'DIG|Prodigal Son', u' Sagat/Ryu/Abel', u' 2'],\n",
    " [u'9th', u'RZR CG|Problem X', u' C.Viper', u' 2'],\n",
    " [u'13th', u' F-Word', u' Ibuki', u' 1'],\n",
    " [u'13th', u'RIZE|Pro Fluke', u' El Fuerte', u' 1'],\n",
    " [u'13th', u'Daddy|Renegad', u' Poison', u' 1'],\n",
    " [u'13th', u'BX3|Phenom', u' M.Bison', u' 1']]"
   ]
  }
 ],
 "metadata": {
  "kernelspec": {
   "display_name": "Python 2",
   "language": "python",
   "name": "python2"
  },
  "language_info": {
   "codemirror_mode": {
    "name": "ipython",
    "version": 2
   },
   "file_extension": ".py",
   "mimetype": "text/x-python",
   "name": "python",
   "nbconvert_exporter": "python",
   "pygments_lexer": "ipython2",
   "version": "2.7.10"
  }
 },
 "nbformat": 4,
 "nbformat_minor": 0
}
