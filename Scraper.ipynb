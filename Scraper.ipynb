{
 "cells": [
  {
   "cell_type": "code",
   "execution_count": 1,
   "metadata": {
    "collapsed": true
   },
   "outputs": [],
   "source": [
    "import notebook\n",
    "E = notebook.nbextensions.EnableNBExtensionApp()\n",
    "E.enable_nbextension('usability/codefolding/main')"
   ]
  },
  {
   "cell_type": "code",
   "execution_count": null,
   "metadata": {
    "collapsed": true
   },
   "outputs": [],
   "source": [
    "# all_data"
   ]
  },
  {
   "cell_type": "code",
   "execution_count": 14,
   "metadata": {
    "collapsed": true
   },
   "outputs": [],
   "source": [
    "import urllib2\n",
    "from bs4 import BeautifulSoup\n",
    "home = 'https://capcomprotour.com/'"
   ]
  },
  {
   "cell_type": "code",
   "execution_count": 279,
   "metadata": {
    "collapsed": false
   },
   "outputs": [],
   "source": [
    "def scrape_results_urls(schedule_url=home+'/schedule/'):\n",
    "    \"\"\" Returns list of urls for CPT event results pages\"\"\"\n",
    "    response = urllib2.urlopen(schedule_url)\n",
    "    soup = BeautifulSoup(response.read(), 'html.parser')\n",
    "    return [i.get('href') for i in soup.find_all('a') if i.string == 'View Results']\n",
    "\n",
    "def scrape_tourney_dates(offset, schedule_url=home+'/schedule/'):\n",
    "    \"\"\" Returns list of urls for CPT event results pages\"\"\"\n",
    "    response = urllib2.urlopen(schedule_url)\n",
    "    soup = BeautifulSoup(response.read(), 'html.parser')\n",
    "    return [str(i.contents[1].strip()) for i in soup.find_all('br')[offset:]]\n",
    "\n",
    "def scrape_url_standings(url):\n",
    "    \"\"\" Scrapes results page\"\"\"\n",
    "    response = urllib2.urlopen(url)\n",
    "    soup = BeautifulSoup(response.read(), 'html.parser')\n",
    "    \n",
    "    #scrape tournament name\n",
    "    tourney_title = soup.title.contents[0].split(' Results')[0]\n",
    "    # scrape tournament reults table\n",
    "    data = []\n",
    "    for entry in soup.find_all('tr')[1:]:\n",
    "        data.append([i.contents[0] for i in entry.contents[::2]])\n",
    "    return tourney_title, data  # tourney-title, (Rank, PlayerName, Char, Pts)"
   ]
  },
  {
   "cell_type": "code",
   "execution_count": 280,
   "metadata": {
    "collapsed": false
   },
   "outputs": [
    {
     "data": {
      "text/plain": [
       "['02-27-2015 - 03-01-2015',\n",
       " '03-07-2015 - 03-07-2015',\n",
       " '03-15-2015 - 03-15-2015',\n",
       " '03-20-2015 - 03-22-2015',\n",
       " '04-03-2015 - 04-05-2015',\n",
       " '04-04-2015 - 04-05-2015',\n",
       " '04-24-2015 - 04-26-2015',\n",
       " '04-25-2015 - 04-25-2015',\n",
       " '05-04-2015 - 05-04-2015',\n",
       " '05-08-2015 - 05-10-2015',\n",
       " '05-22-2015 - 05-24-2015',\n",
       " '05-22-2015 - 05-24-2015',\n",
       " '05-29-2015 - 05-31-2015',\n",
       " '06-13-2015 - 06-16-2015',\n",
       " '06-19-2015 - 06-21-2015',\n",
       " '06-26-2015 - 06-28-2015',\n",
       " '07-17-2015 - 07-19-2015',\n",
       " '07-31-2015 - 08-01-2015',\n",
       " '08-08-2015 - 08-09-2015',\n",
       " '08-08-2015 - 08-09-2015',\n",
       " '08-22-2015 - 08-22-2015',\n",
       " '08-28-2015 - 08-30-2015',\n",
       " '08-29-2015 - 08-29-2015',\n",
       " '09-04-2015 - 09-06-2015',\n",
       " '09-04-2015 - 09-06-2015',\n",
       " '09-11-2015 - 09-13-2015',\n",
       " '09-12-2015 - 09-12-2015',\n",
       " '09-20-2015 - 09-20-2015',\n",
       " '09-24-2015 - 09-26-2015',\n",
       " '09-24-2015 - 09-27-2015',\n",
       " '09-25-2015 - 09-27-2015',\n",
       " '10-03-2015 - 10-04-2015',\n",
       " '10-03-2015 - 10-04-2015',\n",
       " '10-09-2015 - 10-11-2015',\n",
       " '10-10-2015 - 10-12-2015',\n",
       " '10-17-2015 - 10-17-2015',\n",
       " '10-23-2015 - 10-25-2015',\n",
       " '10-24-2015 - 10-25-2015',\n",
       " '10-25-2015 - 10-25-2015',\n",
       " '10-30-2015 - 11-01-2015']"
      ]
     },
     "execution_count": 280,
     "metadata": {},
     "output_type": "execute_result"
    }
   ],
   "source": [
    "scrape_tourney_dates(6)"
   ]
  },
  {
   "cell_type": "code",
   "execution_count": 255,
   "metadata": {
    "collapsed": false
   },
   "outputs": [],
   "source": [
    "def scrub_player_data(rank, name, chars, pts):\n",
    "    rank = int(''.join([i for i in rank if i.isdigit()]))\n",
    "    \n",
    "    spl = name.split('|')\n",
    "    if len(spl) == 2:\n",
    "        tag,name = spl\n",
    "    else:\n",
    "        tag = None\n",
    "        name = spl[0]\n",
    "    \n",
    "    chars = [str(i.strip()) for i in chars.split('/')]\n",
    "    pts = int(pts)\n",
    "    \n",
    "    return rank, str(name.strip()), chars, pts\n",
    "\n",
    "def scrub_tourney_title(name):\n",
    "    tmp = name.split(':')\n",
    "    if len(tmp) == 2:\n",
    "        status = str(tmp[0].split()[0].capitalize())\n",
    "        name = tmp[1]\n",
    "    else:\n",
    "        status = None\n",
    "        name = tmp[0]\n",
    "    return status, str(name.rstrip('(CPTA Qualifier)').rstrip('2015').strip())"
   ]
  },
  {
   "cell_type": "code",
   "execution_count": 24,
   "metadata": {
    "collapsed": false
   },
   "outputs": [],
   "source": [
    "# all_dat = []\n",
    "# all_title = []\n",
    "# for url in scrape_results_urls():\n",
    "#     title, dat = scrape_url_standings(url)\n",
    "#     all_title.append(title)\n",
    "#     all_dat.append(dat)\n",
    "# import copy\n",
    "# raw_dat = copy.copy(all_dat)\n",
    "# raw_title = copy.copy(all_title)"
   ]
  },
  {
   "cell_type": "code",
   "execution_count": 273,
   "metadata": {
    "collapsed": false
   },
   "outputs": [],
   "source": [
    "import cPickle\n",
    "# cPickle.dump(clean_titles, open('clean_titles.p', 'wb')) "
   ]
  },
  {
   "cell_type": "code",
   "execution_count": 282,
   "metadata": {
    "collapsed": false
   },
   "outputs": [
    {
     "data": {
      "text/plain": [
       "[(1, 'Poongko', ['Seth', 'El Fuerte'], 128),\n",
       " (2, 'Sako', ['Elena', 'Evil Ryu', 'Gen'], 64),\n",
       " (3, 'Infiltration', ['Decapre', 'Akuma', 'Hakan'], 32),\n",
       " (4, 'JehoSan', ['Cammy', 'Decapre', 'Guile'], 16),\n",
       " (5, 'Tonpy', ['C.Viper'], 8),\n",
       " (5, 'Valmaster', ['Chun-Li'], 8),\n",
       " (7, 'Dieminion', ['Guile'], 4),\n",
       " (7, 'Xiao Hai', ['Cammy'], 4),\n",
       " (9, 'ImStillDaDaddy', ['Guile'], 2),\n",
       " (9, 'Ninja Shakz', ['Abel'], 2),\n",
       " (9, 'Prodigal Son', ['Sagat', 'Ryu', 'Abel'], 2),\n",
       " (9, 'Problem X', ['C.Viper'], 2),\n",
       " (13, 'F-Word', ['Ibuki'], 1),\n",
       " (13, 'Pro Fluke', ['El Fuerte'], 1),\n",
       " (13, 'Renegad', ['Poison'], 1),\n",
       " (13, 'Phenom', ['M.Bison'], 1)]"
      ]
     },
     "execution_count": 282,
     "metadata": {},
     "output_type": "execute_result"
    }
   ],
   "source": [
    "all_player_data[0]"
   ]
  },
  {
   "cell_type": "code",
   "execution_count": 152,
   "metadata": {
    "collapsed": true
   },
   "outputs": [],
   "source": [
    "abudjet = [\n",
    "    [u'1st', u'Dark Jiewa', u'Ken', u'128'],\n",
    "    [u'2nd', u'CCG|Humanbomb', u'Sakura/Poison/Ryu', u'64'],\n",
    "    [u'3rd', u'Chuan', u'Guile/Fei Long/Zangief/Yun', u'32'],\n",
    "    [u'4th', u'XiaoLong', u'M.Bison', u'16'],\n",
    "    [u'5th', u'GL|Saunic', u'Ibuki/Dhalsim', u'8'],\n",
    "    [u'5th', u'Revenger32', u'Abel', u'8'],\n",
    "    [u'7th', u'CodyNp', u'Decapre/Poison/Ryu', u'4'],\n",
    "    [u'7th', u'Dian', u'Guile/M.Bison', u'4'],\n",
    "    [u'9th', u'Susubabi', u'Sagat', u'2'],\n",
    "    [u'9th', u'AHo', u'Rolento', u'2'],\n",
    "    [u'9th', u'Shamwow', u'Rose', u'2'],\n",
    "    [u'9th', u'Cameraman', u'T.Hawk', u'2'],\n",
    "    [u'13th', u'Nekopunch', u'Yun', u'1'],\n",
    "    [u'13th', u'Kenmike77', u'Ken', u'1'],\n",
    "    [u'13th', u'Ush', u'Poison', u'1'],\n",
    "    [u'13th', u'Drapoyo', u'Guile', u'1'],\n",
    "]"
   ]
  },
  {
   "cell_type": "code",
   "execution_count": 155,
   "metadata": {
    "collapsed": true
   },
   "outputs": [],
   "source": [
    "cannes = [[u'1st', u' /r/Kappa|Poongko', u'Seth/El Fuerte ', u' 128'],\n",
    " [u'2nd', u' HORI|Sako', u' Elena/Evil Ryu/Gen', u' 64'],\n",
    " [u'3rd', u' /r/Kappa|Infiltration', u' Decapre/Akuma/Hakan', u' 32'],\n",
    " [u'4th', u' JehoSan', u' Cammy/Decapre/Guile', u' 16'],\n",
    " [u'5th', u' Tonpy', u' C.Viper', u' 8'],\n",
    " [u'5th', u'GL|Valmaster', u' Chun-Li', u' 8'],\n",
    " [u'7th', u'Dieminion', u' Guile', u' 4'],\n",
    " [u'7th', u'Qanba|Xiao Hai', u' Cammy', u' 4'],\n",
    " [u'9th', u'UM|ImStillDaDaddy', u' Guile', u' 2'],\n",
    " [u'9th', u'Ninja Shakz', u' Abel', u' 2'],\n",
    " [u'9th', u'DIG|Prodigal Son', u' Sagat/Ryu/Abel', u' 2'],\n",
    " [u'9th', u'RZR CG|Problem X', u' C.Viper', u' 2'],\n",
    " [u'13th', u' F-Word', u' Ibuki', u' 1'],\n",
    " [u'13th', u'RIZE|Pro Fluke', u' El Fuerte', u' 1'],\n",
    " [u'13th', u'Daddy|Renegad', u' Poison', u' 1'],\n",
    " [u'13th', u'BX3|Phenom', u' M.Bison', u' 1']]"
   ]
  }
 ],
 "metadata": {
  "kernelspec": {
   "display_name": "Python 2",
   "language": "python",
   "name": "python2"
  },
  "language_info": {
   "codemirror_mode": {
    "name": "ipython",
    "version": 2
   },
   "file_extension": ".py",
   "mimetype": "text/x-python",
   "name": "python",
   "nbconvert_exporter": "python",
   "pygments_lexer": "ipython2",
   "version": "2.7.10"
  }
 },
 "nbformat": 4,
 "nbformat_minor": 0
}
