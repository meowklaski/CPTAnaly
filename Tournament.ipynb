{
 "cells": [
  {
   "cell_type": "markdown",
   "metadata": {},
   "source": [
    "Building Tournament DataFrame"
   ]
  },
  {
   "cell_type": "code",
   "execution_count": 1,
   "metadata": {
    "collapsed": true
   },
   "outputs": [],
   "source": [
    "import notebook\n",
    "E = notebook.nbextensions.EnableNBExtensionApp()\n",
    "E.enable_nbextension('usability/codefolding/main')"
   ]
  },
  {
   "cell_type": "code",
   "execution_count": 1,
   "metadata": {
    "collapsed": false
   },
   "outputs": [],
   "source": [
    "%load_ext autoreload\n",
    "%autoreload 2\n",
    "\n",
    "%aimport scraper\n",
    "%aimport scruber"
   ]
  },
  {
   "cell_type": "code",
   "execution_count": 2,
   "metadata": {
    "collapsed": true
   },
   "outputs": [],
   "source": [
    "from scraper import scrape_tourney_dates\n",
    "from scruber import scrub_tourney_dates"
   ]
  },
  {
   "cell_type": "code",
   "execution_count": 10,
   "metadata": {
    "collapsed": true
   },
   "outputs": [],
   "source": [
    "import cPickle\n",
    "with open('data/clean_titles.p','rb') as f:\n",
    "     tourney_names = cPickle.load(f)"
   ]
  },
  {
   "cell_type": "code",
   "execution_count": 1,
   "metadata": {
    "collapsed": true
   },
   "outputs": [],
   "source": [
    "class Tourney(object):\n",
    "    def __init__(self, name, type_, date=None):\n",
    "        self.name = name\n",
    "        self.type_= type_\n",
    "        self.date = date"
   ]
  },
  {
   "cell_type": "code",
   "execution_count": 30,
   "metadata": {
    "collapsed": false
   },
   "outputs": [
    {
     "data": {
      "text/plain": [
       "[2, 27, 2015]"
      ]
     },
     "execution_count": 30,
     "metadata": {},
     "output_type": "execute_result"
    }
   ],
   "source": [
    "dates = scrape_tourney_dates(6)"
   ]
  },
  {
   "cell_type": "code",
   "execution_count": 7,
   "metadata": {
    "collapsed": false
   },
   "outputs": [],
   "source": [
    "scrubed_dates = []\n",
    "for date_ in dates:\n",
    "    scrubed_dates.append(scrub_tourney_dates(date_))"
   ]
  },
  {
   "cell_type": "code",
   "execution_count": 9,
   "metadata": {
    "collapsed": false
   },
   "outputs": [
    {
     "data": {
      "text/plain": [
       "40"
      ]
     },
     "execution_count": 9,
     "metadata": {},
     "output_type": "execute_result"
    }
   ],
   "source": [
    "len(scrubed_dates)"
   ]
  },
  {
   "cell_type": "code",
   "execution_count": 3,
   "metadata": {
    "collapsed": false
   },
   "outputs": [],
   "source": [
    "dates = scrape_tourney_dates(6)"
   ]
  },
  {
   "cell_type": "code",
   "execution_count": 31,
   "metadata": {
    "collapsed": false
   },
   "outputs": [
    {
     "name": "stdout",
     "output_type": "stream",
     "text": [
      "16 Evolution Championship Series\n"
     ]
    }
   ],
   "source": [
    "for i,(type_,name) in enumerate(tourney_names):\n",
    "    if type_ is None:\n",
    "        print i, name"
   ]
  },
  {
   "cell_type": "code",
   "execution_count": 32,
   "metadata": {
    "collapsed": false
   },
   "outputs": [],
   "source": [
    "i = 16\n",
    "if tourney_names[i][0] is None:\n",
    "    tourney_names[i] = ('Premier', tourney_names[i][1])\n",
    "else:\n",
    "    print 'Error'"
   ]
  },
  {
   "cell_type": "code",
   "execution_count": 76,
   "metadata": {
    "collapsed": false
   },
   "outputs": [],
   "source": []
  },
  {
   "cell_type": "code",
   "execution_count": 35,
   "metadata": {
    "collapsed": true
   },
   "outputs": [],
   "source": [
    "with open('data/tourney_names_w_fixedTypes.p','rb') as f:\n",
    "     a = cPickle.load(f)"
   ]
  },
  {
   "cell_type": "code",
   "execution_count": 49,
   "metadata": {
    "collapsed": false
   },
   "outputs": [],
   "source": [
    "names = [i[1] for i in tourney_names]"
   ]
  },
  {
   "cell_type": "code",
   "execution_count": 50,
   "metadata": {
    "collapsed": false
   },
   "outputs": [
    {
     "name": "stdout",
     "output_type": "stream",
     "text": [
      "0 Cannes Winter Clash\n",
      "1 Abuget Cup\n",
      "2 Nine States Tournament\n",
      "3 Final Round 18\n",
      "4 NorCal Regionals\n",
      "5 Hypespotting 4\n",
      "6 Northwest Majors 7\n",
      "7 Double Elimination\n",
      "8 KVO\n",
      "9 Texas Showdown\n",
      "10 Combo Breaker\n",
      "11 Stunfest\n",
      "12 FFM-Rumble #8\n",
      "13 Dreamhack Summer\n",
      "14 South East Asia Major\n",
      "15 CEO\n",
      "16 Evolution Championship Series\n",
      "17 Capcom Pro Tour Asia Shanghai\n",
      "18 VSFighting\n",
      "19 FV Cup\n",
      "20 Taiwan Fighting Game Major\n",
      "21 Summer Jam 9\n",
      "22 CPTA Hong Kong\n",
      "23 Manila Cup\n",
      "24 First Attack\n",
      "25 The Fall Classic\n",
      "26 Saigon Cup\n",
      "27 Mad Catz Tokyo Game Show\n",
      "28 KO Fighting Game Festival\n",
      "29 EGX\n",
      "30 The Call of Ragnarok\n",
      "31 Red Fight District IV\n",
      "32 Ze Fighting Game Championship\n",
      "33 SoCal Regionals\n",
      "34 Capcom Pro Tour Brazil\n",
      "35 Ultra Hyakkishu Cup\n",
      "36 Milan Games Week\n",
      "37 Defend the North\n",
      "38 True Challengers Costa Rica\n",
      "39 Canada Cup\n"
     ]
    }
   ],
   "source": [
    "for i,n in enumerate(names):\n",
    "    print i,n"
   ]
  },
  {
   "cell_type": "code",
   "execution_count": 48,
   "metadata": {
    "collapsed": true
   },
   "outputs": [],
   "source": [
    "i = 34\n",
    "tourney_names[i] = (tourney_names[i][0], 'Capcom Pro Tour Brazil')"
   ]
  },
  {
   "cell_type": "code",
   "execution_count": 57,
   "metadata": {
    "collapsed": true
   },
   "outputs": [],
   "source": [
    "nicknames = ['CWC','AC','NST','FR','NCR', \n",
    "             'HS','NWM','DE','KVO','TS',\n",
    "             'CB','SF','FFMR','DS','SEAM',\n",
    "             'CEO','EVO','CPTAS','VSF',\n",
    "             'FVC', 'TFGM','SJ','CPTAHK','MC',\n",
    "             'FA','TFC','SC','MCZTGS','KOFGF',\n",
    "             'EGX','COR','RFD','ZFGC','SCR',\n",
    "             'CPTB','UHC','MGW','DTN','TCCR',\n",
    "             'CC']"
   ]
  },
  {
   "cell_type": "code",
   "execution_count": 58,
   "metadata": {
    "collapsed": false
   },
   "outputs": [
    {
     "data": {
      "text/plain": [
       "40"
      ]
     },
     "execution_count": 58,
     "metadata": {},
     "output_type": "execute_result"
    }
   ],
   "source": [
    "len(nicknames)"
   ]
  },
  {
   "cell_type": "code",
   "execution_count": 53,
   "metadata": {
    "collapsed": false
   },
   "outputs": [
    {
     "data": {
      "text/plain": [
       "40"
      ]
     },
     "execution_count": 53,
     "metadata": {},
     "output_type": "execute_result"
    }
   ],
   "source": [
    "len(names)"
   ]
  },
  {
   "cell_type": "code",
   "execution_count": 60,
   "metadata": {
    "collapsed": false
   },
   "outputs": [
    {
     "name": "stdout",
     "output_type": "stream",
     "text": [
      "Cannes Winter Clash...CWC\n",
      "Abuget Cup...AC\n",
      "Nine States Tournament...NST\n",
      "Final Round 18...FR\n",
      "NorCal Regionals...NCR\n",
      "Hypespotting 4...HS\n",
      "Northwest Majors 7...NWM\n",
      "Double Elimination...DE\n",
      "KVO...KVO\n",
      "Texas Showdown...TS\n",
      "Combo Breaker...CB\n",
      "Stunfest...SF\n",
      "FFM-Rumble #8...FFMR\n",
      "Dreamhack Summer...DS\n",
      "South East Asia Major...SEAM\n",
      "CEO...CEO\n",
      "Evolution Championship Series...EVO\n",
      "Capcom Pro Tour Asia Shanghai...CPTAS\n",
      "VSFighting...VSF\n",
      "FV Cup...FVC\n",
      "Taiwan Fighting Game Major...TFGM\n",
      "Summer Jam 9...SJ\n",
      "CPTA Hong Kong...CPTAHK\n",
      "Manila Cup...MC\n",
      "First Attack...FA\n",
      "The Fall Classic...TFC\n",
      "Saigon Cup...SC\n",
      "Mad Catz Tokyo Game Show...MCZTGS\n",
      "KO Fighting Game Festival...KOFGF\n",
      "EGX...EGX\n",
      "The Call of Ragnarok...COR\n",
      "Red Fight District IV...RFD\n",
      "Ze Fighting Game Championship...ZFGC\n",
      "SoCal Regionals...SCR\n",
      "Capcom Pro Tour Brazil...CPTB\n",
      "Ultra Hyakkishu Cup...UHC\n",
      "Milan Games Week...MGW\n",
      "Defend the North...DTN\n",
      "True Challengers Costa Rica...TCCR\n",
      "Canada Cup...CC\n"
     ]
    }
   ],
   "source": [
    "for n,nn in zip(names,nicknames):\n",
    "    print n+\"...\"+nn"
   ]
  },
  {
   "cell_type": "code",
   "execution_count": 70,
   "metadata": {
    "collapsed": false
   },
   "outputs": [
    {
     "data": {
      "text/plain": [
       "{'a': 1}"
      ]
     },
     "execution_count": 70,
     "metadata": {},
     "output_type": "execute_result"
    }
   ],
   "source": [
    "dict([('a',1)])"
   ]
  },
  {
   "cell_type": "code",
   "execution_count": 72,
   "metadata": {
    "collapsed": false
   },
   "outputs": [],
   "source": [
    "names_to_nick = dict(zip(names,nicknames))"
   ]
  },
  {
   "cell_type": "code",
   "execution_count": 73,
   "metadata": {
    "collapsed": true
   },
   "outputs": [],
   "source": [
    "nick_to_names = dict(zip(nicknames,names))"
   ]
  },
  {
   "cell_type": "code",
   "execution_count": 75,
   "metadata": {
    "collapsed": false
   },
   "outputs": [
    {
     "data": {
      "text/plain": [
       "{'Abuget Cup': 'AC',\n",
       " 'CEO': 'CEO',\n",
       " 'CPTA Hong Kong': 'CPTAHK',\n",
       " 'Canada Cup': 'CC',\n",
       " 'Cannes Winter Clash': 'CWC',\n",
       " 'Capcom Pro Tour Asia Shanghai': 'CPTAS',\n",
       " 'Capcom Pro Tour Brazil': 'CPTB',\n",
       " 'Combo Breaker': 'CB',\n",
       " 'Defend the North': 'DTN',\n",
       " 'Double Elimination': 'DE',\n",
       " 'Dreamhack Summer': 'DS',\n",
       " 'EGX': 'EGX',\n",
       " 'Evolution Championship Series': 'EVO',\n",
       " 'FFM-Rumble #8': 'FFMR',\n",
       " 'FV Cup': 'FVC',\n",
       " 'Final Round 18': 'FR',\n",
       " 'First Attack': 'FA',\n",
       " 'Hypespotting 4': 'HS',\n",
       " 'KO Fighting Game Festival': 'KOFGF',\n",
       " 'KVO': 'KVO',\n",
       " 'Mad Catz Tokyo Game Show': 'MCZTGS',\n",
       " 'Manila Cup': 'MC',\n",
       " 'Milan Games Week': 'MGW',\n",
       " 'Nine States Tournament': 'NST',\n",
       " 'NorCal Regionals': 'NCR',\n",
       " 'Northwest Majors 7': 'NWM',\n",
       " 'Red Fight District IV': 'RFD',\n",
       " 'Saigon Cup': 'SC',\n",
       " 'SoCal Regionals': 'SCR',\n",
       " 'South East Asia Major': 'SEAM',\n",
       " 'Stunfest': 'SF',\n",
       " 'Summer Jam 9': 'SJ',\n",
       " 'Taiwan Fighting Game Major': 'TFGM',\n",
       " 'Texas Showdown': 'TS',\n",
       " 'The Call of Ragnarok': 'COR',\n",
       " 'The Fall Classic': 'TFC',\n",
       " 'True Challengers Costa Rica': 'TCCR',\n",
       " 'Ultra Hyakkishu Cup': 'UHC',\n",
       " 'VSFighting': 'VSF',\n",
       " 'Ze Fighting Game Championship': 'ZFGC'}"
      ]
     },
     "execution_count": 75,
     "metadata": {},
     "output_type": "execute_result"
    }
   ],
   "source": [
    "names_to_nick"
   ]
  },
  {
   "cell_type": "code",
   "execution_count": 78,
   "metadata": {
    "collapsed": true
   },
   "outputs": [],
   "source": [
    "cPickle.dump(nick_to_names, open('data/nick_to_names.p', 'wb')) "
   ]
  },
  {
   "cell_type": "code",
   "execution_count": 79,
   "metadata": {
    "collapsed": true
   },
   "outputs": [],
   "source": [
    "cPickle.dump(names_to_nick, open('data/names_to_nick.p', 'wb')) "
   ]
  },
  {
   "cell_type": "code",
   "execution_count": null,
   "metadata": {
    "collapsed": true
   },
   "outputs": [],
   "source": []
  }
 ],
 "metadata": {
  "kernelspec": {
   "display_name": "Python 2",
   "language": "python",
   "name": "python2"
  },
  "language_info": {
   "codemirror_mode": {
    "name": "ipython",
    "version": 2
   },
   "file_extension": ".py",
   "mimetype": "text/x-python",
   "name": "python",
   "nbconvert_exporter": "python",
   "pygments_lexer": "ipython2",
   "version": "2.7.10"
  }
 },
 "nbformat": 4,
 "nbformat_minor": 0
}
