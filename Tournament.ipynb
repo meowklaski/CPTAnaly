{
 "cells": [
  {
   "cell_type": "markdown",
   "metadata": {},
   "source": [
    "Building Tournament DataFrame"
   ]
  },
  {
   "cell_type": "code",
   "execution_count": 1,
   "metadata": {
    "collapsed": true
   },
   "outputs": [],
   "source": [
    "import notebook\n",
    "E = notebook.nbextensions.EnableNBExtensionApp()\n",
    "E.enable_nbextension('usability/codefolding/main')"
   ]
  },
  {
   "cell_type": "code",
   "execution_count": null,
   "metadata": {
    "collapsed": true
   },
   "outputs": [],
   "source": []
  },
  {
   "cell_type": "code",
   "execution_count": 2,
   "metadata": {
    "collapsed": false
   },
   "outputs": [],
   "source": [
    "%load_ext autoreload\n",
    "%autoreload 2\n",
    "\n",
    "%aimport scraper\n",
    "%aimport scruber\n",
    "%aimport tourney_class"
   ]
  },
  {
   "cell_type": "code",
   "execution_count": 3,
   "metadata": {
    "collapsed": true
   },
   "outputs": [],
   "source": [
    "import numpy as np\n",
    "from scraper import scrape_tourney_dates\n",
    "from scruber import scrub_tourney_dates\n",
    "from tourney_class import Tourney"
   ]
  },
  {
   "cell_type": "code",
   "execution_count": 4,
   "metadata": {
    "collapsed": false
   },
   "outputs": [],
   "source": [
    "import cPickle\n",
    "# with open('data/clean_titles.p','rb') as f:\n",
    "#      tourney_names = cPickle.load(f)\n",
    "# with open('data/all_player_data.p','rb') as f:\n",
    "#      player_dat = cPickle.load(f)\n",
    "# with open('data/tourney_data.p', 'wb') as f_:\n",
    "#     cPickle.dump(tourney_data, f_) "
   ]
  },
  {
   "cell_type": "code",
   "execution_count": 19,
   "metadata": {
    "collapsed": false
   },
   "outputs": [],
   "source": [
    "# initialize tourney data: dictionary of Tourney class for each CPT event\n",
    "\n",
    "with open('data/tourney_names_w_fixedTypes.p','rb') as f:\n",
    "     tourney_names = cPickle.load(f)\n",
    "with open('data/all_player_data.p','rb') as f:\n",
    "     player_dat = cPickle.load(f)\n",
    "with open('data/scrubed_dates.p','rb') as f:\n",
    "     scrubed_dates = cPickle.load(f)\n",
    "with open('data/names_to_nick.p','rb') as f:\n",
    "     names_to_nick = cPickle.load(f)  \n",
    "tourney_data = dict()\n",
    "all_chars = []\n",
    "for i,t_data in enumerate(player_dat):\n",
    "    chars = []\n",
    "    for dat in t_data:\n",
    "        chars.extend(dat[2])\n",
    "    all_chars.extend(chars)\n",
    "    type_, t_name = tourney_names[i]\n",
    "    start,stop = scrubed_dates[i]\n",
    "    tourney_data[names_to_nick[t_name]] = Tourney(type_, t_name, names_to_nick[t_name], start, stop, chars)"
   ]
  },
  {
   "cell_type": "code",
   "execution_count": 20,
   "metadata": {
    "collapsed": false
   },
   "outputs": [
    {
     "data": {
      "text/plain": [
       "'Evolution Championship Series'"
      ]
     },
     "execution_count": 20,
     "metadata": {},
     "output_type": "execute_result"
    }
   ],
   "source": [
    "tourney_data['EVO'].name"
   ]
  },
  {
   "cell_type": "code",
   "execution_count": 170,
   "metadata": {
    "collapsed": false
   },
   "outputs": [],
   "source": [
    "player_dat[30][-6] =  (9, 'Pedram', ['Ryu'], 2)"
   ]
  },
  {
   "cell_type": "code",
   "execution_count": 173,
   "metadata": {
    "collapsed": false
   },
   "outputs": [
    {
     "data": {
      "text/plain": [
       "[(1, 'Daigo Umehara', ['Evil Ryu'], 256),\n",
       " (2, 'Gamerbee', ['Adon', 'Elena'], 128),\n",
       " (3, 'NuckleDu', ['Guile', 'Decapre', 'Ibuki'], 64),\n",
       " (4, 'Bonchan', ['Sagat'], 32),\n",
       " (5, 'Justin Wong', ['Rufus', 'Rose'], 16),\n",
       " (5, 'Smug', ['Dudley'], 16),\n",
       " (7, 'Infiltration', ['Decapre', 'Akuma', 'Chun-Li'], 8),\n",
       " (7, 'Kazunoko', ['Yun'], 8),\n",
       " (9, 'Momochi', ['Ken', 'Evil Ryu'], 4),\n",
       " (9, 'Snake Eyez', ['Zangief'], 4),\n",
       " (9, '801 Strider', ['Abel'], 4),\n",
       " (9, 'Poongko', ['Seth'], 4),\n",
       " (13, 'SD Pnoy', ['M.Bison'], 2),\n",
       " (13, 'Ricky Ortiz', ['Rufus', 'Chun-Li'], 2),\n",
       " (13, 'EX Pugera', ['Ibuki'], 2),\n",
       " (13, 'Marq Teddy', ['Guy'], 2)]"
      ]
     },
     "execution_count": 173,
     "metadata": {},
     "output_type": "execute_result"
    }
   ],
   "source": [
    "player_dat[4]"
   ]
  },
  {
   "cell_type": "code",
   "execution_count": 179,
   "metadata": {
    "collapsed": false
   },
   "outputs": [
    {
     "data": {
      "text/plain": [
       "['Ken',\n",
       " 'Evil Ryu',\n",
       " 'Elena',\n",
       " 'Elena',\n",
       " 'Adon',\n",
       " 'Evil Ryu',\n",
       " 'Chun-Li',\n",
       " 'Abel',\n",
       " 'Decapre',\n",
       " 'Elena',\n",
       " 'Juri',\n",
       " 'Rolento',\n",
       " 'Juri',\n",
       " 'Akuma',\n",
       " 'Balrog',\n",
       " 'Decapre',\n",
       " 'Guile',\n",
       " 'Yun',\n",
       " 'Sagat',\n",
       " 'Evil Ryu',\n",
       " 'Rose',\n",
       " 'Poison',\n",
       " 'Cammy',\n",
       " 'Evil Ryu',\n",
       " 'Yun',\n",
       " 'Elena',\n",
       " 'Zangief',\n",
       " 'C.Viper']"
      ]
     },
     "execution_count": 179,
     "metadata": {},
     "output_type": "execute_result"
    }
   ],
   "source": [
    "tourney_data['EVO'].characters"
   ]
  },
  {
   "cell_type": "code",
   "execution_count": 126,
   "metadata": {
    "collapsed": false
   },
   "outputs": [],
   "source": [
    "all_chars1 = sorted(list(set(all_chars)))"
   ]
  },
  {
   "cell_type": "code",
   "execution_count": 180,
   "metadata": {
    "collapsed": false
   },
   "outputs": [
    {
     "data": {
      "text/plain": [
       "883"
      ]
     },
     "execution_count": 180,
     "metadata": {},
     "output_type": "execute_result"
    }
   ],
   "source": [
    "len(all_chars)"
   ]
  },
  {
   "cell_type": "code",
   "execution_count": 150,
   "metadata": {
    "collapsed": false
   },
   "outputs": [
    {
     "data": {
      "text/plain": [
       "(7, 'Infiltration', ['Decapre', 'Akuma', 'Chun-Li'], 8)"
      ]
     },
     "execution_count": 150,
     "metadata": {},
     "output_type": "execute_result"
    }
   ],
   "source": [
    "player_dat[4]"
   ]
  },
  {
   "cell_type": "code",
   "execution_count": 148,
   "metadata": {
    "collapsed": false
   },
   "outputs": [
    {
     "data": {
      "text/plain": [
       "(5, 'Dark Jiewa', ['Ken'], 8)"
      ]
     },
     "execution_count": 148,
     "metadata": {},
     "output_type": "execute_result"
    }
   ],
   "source": [
    "player_dat[20][4]"
   ]
  },
  {
   "cell_type": "code",
   "execution_count": 136,
   "metadata": {
    "collapsed": false
   },
   "outputs": [
    {
     "data": {
      "text/plain": [
       "['Abel',\n",
       " 'Adon',\n",
       " 'Akuma',\n",
       " 'Balrog',\n",
       " 'Blanka',\n",
       " 'C.Viper',\n",
       " 'Cammy',\n",
       " 'Chun-Li',\n",
       " 'Cody',\n",
       " 'Decapre',\n",
       " 'Dee Jay',\n",
       " 'Dhalsim',\n",
       " 'Dudley',\n",
       " 'E.Honda',\n",
       " 'El Fuerte',\n",
       " 'Elena',\n",
       " 'Evil Ryu',\n",
       " 'Fei Long',\n",
       " 'Gen',\n",
       " 'Gouken',\n",
       " 'Guile',\n",
       " 'Guy',\n",
       " 'Hakan',\n",
       " 'Hugo',\n",
       " 'Ibuki',\n",
       " 'Juri',\n",
       " 'Ken',\n",
       " 'M.Bison',\n",
       " 'Makoto',\n",
       " 'Oni',\n",
       " 'Poison',\n",
       " 'Rolento',\n",
       " 'Rose',\n",
       " 'Rufus',\n",
       " 'Ryu',\n",
       " 'Sagat',\n",
       " 'Sakura',\n",
       " 'Seth',\n",
       " 'T.Hawk',\n",
       " 'Vega',\n",
       " 'Yang',\n",
       " 'Yun',\n",
       " 'Zangief',\n",
       " 'c.Viper']"
      ]
     },
     "execution_count": 136,
     "metadata": {},
     "output_type": "execute_result"
    }
   ],
   "source": [
    "all_chars1"
   ]
  },
  {
   "cell_type": "code",
   "execution_count": 7,
   "metadata": {
    "collapsed": false
   },
   "outputs": [],
   "source": [
    "scrubed_dates = []\n",
    "for date_ in dates:\n",
    "    scrubed_dates.append(scrub_tourney_dates(date_))"
   ]
  },
  {
   "cell_type": "code",
   "execution_count": 80,
   "metadata": {
    "collapsed": false
   },
   "outputs": [
    {
     "data": {
      "text/plain": [
       "[(datetime.date(2015, 2, 27), datetime.date(2015, 3, 1)),\n",
       " (datetime.date(2015, 3, 7), datetime.date(2015, 3, 7)),\n",
       " (datetime.date(2015, 3, 15), datetime.date(2015, 3, 15)),\n",
       " (datetime.date(2015, 3, 20), datetime.date(2015, 3, 22)),\n",
       " (datetime.date(2015, 4, 3), datetime.date(2015, 4, 5)),\n",
       " (datetime.date(2015, 4, 4), datetime.date(2015, 4, 5)),\n",
       " (datetime.date(2015, 4, 24), datetime.date(2015, 4, 26)),\n",
       " (datetime.date(2015, 4, 25), datetime.date(2015, 4, 25)),\n",
       " (datetime.date(2015, 5, 4), datetime.date(2015, 5, 4)),\n",
       " (datetime.date(2015, 5, 8), datetime.date(2015, 5, 10)),\n",
       " (datetime.date(2015, 5, 22), datetime.date(2015, 5, 24)),\n",
       " (datetime.date(2015, 5, 22), datetime.date(2015, 5, 24)),\n",
       " (datetime.date(2015, 5, 29), datetime.date(2015, 5, 31)),\n",
       " (datetime.date(2015, 6, 13), datetime.date(2015, 6, 16)),\n",
       " (datetime.date(2015, 6, 19), datetime.date(2015, 6, 21)),\n",
       " (datetime.date(2015, 6, 26), datetime.date(2015, 6, 28)),\n",
       " (datetime.date(2015, 7, 17), datetime.date(2015, 7, 19)),\n",
       " (datetime.date(2015, 7, 31), datetime.date(2015, 8, 1)),\n",
       " (datetime.date(2015, 8, 8), datetime.date(2015, 8, 9)),\n",
       " (datetime.date(2015, 8, 8), datetime.date(2015, 8, 9)),\n",
       " (datetime.date(2015, 8, 22), datetime.date(2015, 8, 22)),\n",
       " (datetime.date(2015, 8, 28), datetime.date(2015, 8, 30)),\n",
       " (datetime.date(2015, 8, 29), datetime.date(2015, 8, 29)),\n",
       " (datetime.date(2015, 9, 4), datetime.date(2015, 9, 6)),\n",
       " (datetime.date(2015, 9, 4), datetime.date(2015, 9, 6)),\n",
       " (datetime.date(2015, 9, 11), datetime.date(2015, 9, 13)),\n",
       " (datetime.date(2015, 9, 12), datetime.date(2015, 9, 12)),\n",
       " (datetime.date(2015, 9, 20), datetime.date(2015, 9, 20)),\n",
       " (datetime.date(2015, 9, 24), datetime.date(2015, 9, 26)),\n",
       " (datetime.date(2015, 9, 24), datetime.date(2015, 9, 27)),\n",
       " (datetime.date(2015, 9, 25), datetime.date(2015, 9, 27)),\n",
       " (datetime.date(2015, 10, 3), datetime.date(2015, 10, 4)),\n",
       " (datetime.date(2015, 10, 3), datetime.date(2015, 10, 4)),\n",
       " (datetime.date(2015, 10, 9), datetime.date(2015, 10, 11)),\n",
       " (datetime.date(2015, 10, 10), datetime.date(2015, 10, 12)),\n",
       " (datetime.date(2015, 10, 17), datetime.date(2015, 10, 17)),\n",
       " (datetime.date(2015, 10, 23), datetime.date(2015, 10, 25)),\n",
       " (datetime.date(2015, 10, 24), datetime.date(2015, 10, 25)),\n",
       " (datetime.date(2015, 10, 25), datetime.date(2015, 10, 25)),\n",
       " (datetime.date(2015, 10, 30), datetime.date(2015, 11, 1))]"
      ]
     },
     "execution_count": 80,
     "metadata": {},
     "output_type": "execute_result"
    }
   ],
   "source": [
    "scrubed_dates"
   ]
  },
  {
   "cell_type": "code",
   "execution_count": 3,
   "metadata": {
    "collapsed": false
   },
   "outputs": [],
   "source": [
    "dates = scrape_tourney_dates(6)"
   ]
  },
  {
   "cell_type": "code",
   "execution_count": 31,
   "metadata": {
    "collapsed": false
   },
   "outputs": [
    {
     "name": "stdout",
     "output_type": "stream",
     "text": [
      "16 Evolution Championship Series\n"
     ]
    }
   ],
   "source": [
    "for i,(type_,name) in enumerate(tourney_names):\n",
    "    if type_ is None:\n",
    "        print i, name"
   ]
  },
  {
   "cell_type": "code",
   "execution_count": 32,
   "metadata": {
    "collapsed": false
   },
   "outputs": [],
   "source": [
    "i = 16\n",
    "if tourney_names[i][0] is None:\n",
    "    tourney_names[i] = ('Premier', tourney_names[i][1])\n",
    "else:\n",
    "    print 'Error'"
   ]
  },
  {
   "cell_type": "code",
   "execution_count": 76,
   "metadata": {
    "collapsed": false
   },
   "outputs": [],
   "source": []
  },
  {
   "cell_type": "code",
   "execution_count": 35,
   "metadata": {
    "collapsed": true
   },
   "outputs": [],
   "source": [
    "with open('data/tourney_names_w_fixedTypes.p','rb') as f:\n",
    "     a = cPickle.load(f)"
   ]
  },
  {
   "cell_type": "code",
   "execution_count": 49,
   "metadata": {
    "collapsed": false
   },
   "outputs": [],
   "source": [
    "names = [i[1] for i in tourney_names]"
   ]
  },
  {
   "cell_type": "code",
   "execution_count": 50,
   "metadata": {
    "collapsed": false
   },
   "outputs": [
    {
     "name": "stdout",
     "output_type": "stream",
     "text": [
      "0 Cannes Winter Clash\n",
      "1 Abuget Cup\n",
      "2 Nine States Tournament\n",
      "3 Final Round 18\n",
      "4 NorCal Regionals\n",
      "5 Hypespotting 4\n",
      "6 Northwest Majors 7\n",
      "7 Double Elimination\n",
      "8 KVO\n",
      "9 Texas Showdown\n",
      "10 Combo Breaker\n",
      "11 Stunfest\n",
      "12 FFM-Rumble #8\n",
      "13 Dreamhack Summer\n",
      "14 South East Asia Major\n",
      "15 CEO\n",
      "16 Evolution Championship Series\n",
      "17 Capcom Pro Tour Asia Shanghai\n",
      "18 VSFighting\n",
      "19 FV Cup\n",
      "20 Taiwan Fighting Game Major\n",
      "21 Summer Jam 9\n",
      "22 CPTA Hong Kong\n",
      "23 Manila Cup\n",
      "24 First Attack\n",
      "25 The Fall Classic\n",
      "26 Saigon Cup\n",
      "27 Mad Catz Tokyo Game Show\n",
      "28 KO Fighting Game Festival\n",
      "29 EGX\n",
      "30 The Call of Ragnarok\n",
      "31 Red Fight District IV\n",
      "32 Ze Fighting Game Championship\n",
      "33 SoCal Regionals\n",
      "34 Capcom Pro Tour Brazil\n",
      "35 Ultra Hyakkishu Cup\n",
      "36 Milan Games Week\n",
      "37 Defend the North\n",
      "38 True Challengers Costa Rica\n",
      "39 Canada Cup\n"
     ]
    }
   ],
   "source": [
    "for i,n in enumerate(names):\n",
    "    print i,n"
   ]
  },
  {
   "cell_type": "code",
   "execution_count": 48,
   "metadata": {
    "collapsed": true
   },
   "outputs": [],
   "source": [
    "i = 34\n",
    "tourney_names[i] = (tourney_names[i][0], 'Capcom Pro Tour Brazil')"
   ]
  },
  {
   "cell_type": "code",
   "execution_count": 57,
   "metadata": {
    "collapsed": true
   },
   "outputs": [],
   "source": [
    "nicknames = ['CWC','AC','NST','FR','NCR', \n",
    "             'HS','NWM','DE','KVO','TS',\n",
    "             'CB','SF','FFMR','DS','SEAM',\n",
    "             'CEO','EVO','CPTAS','VSF',\n",
    "             'FVC', 'TFGM','SJ','CPTAHK','MC',\n",
    "             'FA','TFC','SC','MCZTGS','KOFGF',\n",
    "             'EGX','COR','RFD','ZFGC','SCR',\n",
    "             'CPTB','UHC','MGW','DTN','TCCR',\n",
    "             'CC']"
   ]
  },
  {
   "cell_type": "code",
   "execution_count": 78,
   "metadata": {
    "collapsed": true
   },
   "outputs": [],
   "source": [
    "cPickle.dump(nick_to_names, open('data/nick_to_names.p', 'wb')) "
   ]
  },
  {
   "cell_type": "code",
   "execution_count": 79,
   "metadata": {
    "collapsed": true
   },
   "outputs": [],
   "source": [
    "cPickle.dump(names_to_nick, open('data/names_to_nick.p', 'wb')) "
   ]
  },
  {
   "cell_type": "code",
   "execution_count": 137,
   "metadata": {
    "collapsed": true
   },
   "outputs": [],
   "source": []
  },
  {
   "cell_type": "code",
   "execution_count": 108,
   "metadata": {
    "collapsed": false
   },
   "outputs": [
    {
     "data": {
      "text/plain": [
       "numpy.ma.core.MaskedArray"
      ]
     },
     "execution_count": 108,
     "metadata": {},
     "output_type": "execute_result"
    }
   ],
   "source": [
    "type(np.ma.array(0))"
   ]
  },
  {
   "cell_type": "code",
   "execution_count": 117,
   "metadata": {
    "collapsed": false
   },
   "outputs": [
    {
     "data": {
      "text/plain": [
       "[('Ranking', 'Cannes Winter Clash'),\n",
       " ('Ranking', 'Abuget Cup'),\n",
       " ('Ranking', 'Nine States Tournament'),\n",
       " ('Premier', 'Final Round 18'),\n",
       " ('Premier', 'NorCal Regionals'),\n",
       " ('Premier', 'Hypespotting 4'),\n",
       " ('Ranking', 'Northwest Majors 7'),\n",
       " ('Ranking', 'Double Elimination'),\n",
       " ('Ranking', 'KVO'),\n",
       " ('Ranking', 'Texas Showdown'),\n",
       " ('Ranking', 'Combo Breaker'),\n",
       " ('Premier', 'Stunfest'),\n",
       " ('Ranking', 'FFM-Rumble #8'),\n",
       " ('Ranking', 'Dreamhack Summer'),\n",
       " ('Premier', 'South East Asia Major'),\n",
       " ('Premier', 'CEO'),\n",
       " ('Premier', 'Evolution Championship Series'),\n",
       " ('Ranking', 'Capcom Pro Tour Asia Shanghai'),\n",
       " ('Ranking', 'VSFighting'),\n",
       " ('Ranking', 'FV Cup'),\n",
       " ('Ranking', 'Taiwan Fighting Game Major'),\n",
       " ('Ranking', 'Summer Jam 9'),\n",
       " ('Ranking', 'CPTA Hong Kong'),\n",
       " ('Ranking', 'Manila Cup'),\n",
       " ('Ranking', 'First Attack'),\n",
       " ('Ranking', 'The Fall Classic'),\n",
       " ('Ranking', 'Saigon Cup'),\n",
       " ('Premier', 'Mad Catz Tokyo Game Show'),\n",
       " ('Premier', 'KO Fighting Game Festival'),\n",
       " ('Ranking', 'EGX'),\n",
       " ('Ranking', 'The Call of Ragnarok'),\n",
       " ('Ranking', 'Red Fight District IV'),\n",
       " ('Ranking', 'Ze Fighting Game Championship'),\n",
       " ('Premier', 'SoCal Regionals'),\n",
       " ('Premier', 'Capcom Pro Tour Brazil'),\n",
       " ('Premier', 'Ultra Hyakkishu Cup'),\n",
       " ('Premier', 'Milan Games Week'),\n",
       " ('Ranking', 'Defend the North'),\n",
       " ('Ranking', 'True Challengers Costa Rica'),\n",
       " ('Premier', 'Canada Cup')]"
      ]
     },
     "execution_count": 117,
     "metadata": {},
     "output_type": "execute_result"
    }
   ],
   "source": [
    "tourney_names"
   ]
  },
  {
   "cell_type": "code",
   "execution_count": null,
   "metadata": {
    "collapsed": true
   },
   "outputs": [],
   "source": []
  }
 ],
 "metadata": {
  "kernelspec": {
   "display_name": "Python 2",
   "language": "python",
   "name": "python2"
  },
  "language_info": {
   "codemirror_mode": {
    "name": "ipython",
    "version": 2
   },
   "file_extension": ".py",
   "mimetype": "text/x-python",
   "name": "python",
   "nbconvert_exporter": "python",
   "pygments_lexer": "ipython2",
   "version": "2.7.10"
  }
 },
 "nbformat": 4,
 "nbformat_minor": 0
}
